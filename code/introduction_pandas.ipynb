{
  "cells": [
    {
      "cell_type": "markdown",
      "metadata": {
        "id": "L1ZD1iegXJMV"
      },
      "source": [
        "<center>\n",
        "<table>\n",
        "  <tr>\n",
        "    <td><img src=\"http://www.nasa.gov/sites/all/themes/custom/nasatwo/images/nasa-logo.svg\" width=\"100\"/> </td>\n",
        "     <td><img src=\"https://github.com/astg606/py_materials/blob/master/logos/ASTG_logo.png?raw=true\" width=\"80\"/> </td>\n",
        "     <td> <img src=\"https://www.nccs.nasa.gov/sites/default/files/NCCS_Logo_0.png\" width=\"130\"/> </td>\n",
        "    </tr>\n",
        "</table>\n",
        "</center>\n",
        "\n",
        "        \n",
        "<center>\n",
        "<h1><font color= \"blue\" size=\"+3\">ASTG Python Courses</font></h1>\n",
        "</center>\n",
        "\n",
        "---\n",
        "\n",
        "<center><h1><font color=\"red\" size=\"+3\">Introduction to Pandas</font></h1></center>"
      ]
    },
    {
      "cell_type": "code",
      "execution_count": null,
      "metadata": {
        "id": "MS9G3zRaXJMc"
      },
      "outputs": [],
      "source": [
        "%%html\n",
        "<!DOCTYPE html>\n",
        "<html lang=\"en\">\n",
        "  <head> </head>\n",
        "  <body>\n",
        "<script src=\"https://bot.voiceatlas.mysmce.com/v1/chatlas.js\"></script>\n",
        "<app-chatlas\n",
        "\tatlas-id=\"f759a188-f8bb-46bb-9046-3b1b961bd6aa\"\n",
        "\twidget-background-color=\"#3f51b5ff\"\n",
        "\twidget-text-color=\"#ffffffff\"\n",
        "\twidget-title=\"Chatlas\">\n",
        "</app-chatlas>\n",
        "  </body>\n",
        "</html>"
      ]
    },
    {
      "cell_type": "markdown",
      "metadata": {
        "id": "5ENbOV2XXJMe"
      },
      "source": [
        "## <font color=\"red\">Useful References</font>\n",
        "- <a href=\"https://bitbucket.org/hrojas/learn-pandas/src/master/\">Learn Pandas</a> (by Hernan Rojas)\n",
        "- <a href=\"https://www.learndatasci.com/tutorials/python-pandas-tutorial-complete-introduction-for-beginners/\"> Python Pandas Tutorial: A Complete Introduction for Beginners</a>\n",
        "- <a href=\"https://www.python-course.eu/pandas.php\">Introduction into Pandas</a>\n",
        "- <a href=\"http://earthpy.org/pandas-basics.html\">Time series analysis with pandas</a>\n",
        "- <a href=\"https://jakevdp.github.io/PythonDataScienceHandbook/03.11-working-with-time-series.html\">Working with Time Series</a>"
      ]
    },
    {
      "cell_type": "markdown",
      "metadata": {
        "id": "8RGQl8x2XJMf"
      },
      "source": [
        "![fig_logo](https://miro.medium.com/max/3200/1*9v51-jsfHtk6fgAIYLoiHQ.jpeg)\n",
        "Image Source: pandas.pydata.org\n",
        "\n",
        "## <font color=\"red\">What is Pandas?</font>\n",
        "+ `Pandas` is an open source, BSD-licensed library providing high-performance, easy-to-use data structures and data analysis tools for the Python programming language.\n",
        "+ Some key features:\n",
        "    - Fast and efficient DataFrame object with default and customized indexing.\n",
        "    - Tools for loading data into in-memory data objects from different file formats.\n",
        "    - Data alignment and integrated handling of missing data.\n",
        "    - Reshaping and pivoting of data sets.\n",
        "    - Label-based slicing, indexing and subsetting of large data sets.\n",
        "    - Columns from a data structure can be deleted or inserted.\n",
        "    - Group by data for aggregation and transformations.\n",
        "    - High performance merging and joining of data.\n",
        "    - Time Series functionality.\n",
        "+ Able to manipulate several <a href=\"https://pandas.pydata.org/pandas-docs/stable/user_guide/io.html\">types of files</a>, including CSVs, TSVs , JSONs, HTML, xlsx, HDF5, Python Pickle, among others.\n",
        "* Is compatible with many of the other data analysis libraries, like Scikit-Learn, Matplotlib, NumPy, and more.\n",
        "\n",
        "Some of key features of `Pandas` are captured in the diagram below:\n",
        "\n",
        "![fig_features](https://d2h0cx97tjks2p.cloudfront.net/blogs/wp-content/uploads/sites/2/2019/04/Python-Pandas-Features.jpg)\n",
        "Image Source: data-flair.training"
      ]
    },
    {
      "cell_type": "markdown",
      "metadata": {
        "id": "1fiQ3y0_XJMg"
      },
      "source": [
        "### What Will be Covered\n",
        "\n",
        "1. Pandas data structures\n",
        "2. Grouby Function\n",
        "3. Reading remote CSV files and tables.\n",
        "4. Cleaning and formatting data\n",
        "5. Manipulating time series data\n",
        "6. Performing statistical calculations\n",
        "7. Visualizing the data"
      ]
    },
    {
      "cell_type": "code",
      "execution_count": null,
      "metadata": {
        "id": "tUtgZ8oPXJMh"
      },
      "outputs": [],
      "source": [
        "import warnings\n",
        "warnings.filterwarnings(\"ignore\")"
      ]
    },
    {
      "cell_type": "markdown",
      "metadata": {
        "id": "zdAlYJfUXJMh"
      },
      "source": [
        "### Standard imports"
      ]
    },
    {
      "cell_type": "code",
      "execution_count": null,
      "metadata": {
        "id": "wOwooFD4XJMi"
      },
      "outputs": [],
      "source": [
        "import datetime\n",
        "import numpy as np\n",
        "import pandas as pd"
      ]
    },
    {
      "cell_type": "code",
      "execution_count": null,
      "metadata": {
        "id": "trWXB59bXJMi"
      },
      "outputs": [],
      "source": [
        "print(f'Using Numpy version:  {np.__version__}')\n",
        "print(f'Using Pandas version: {pd.__version__}')"
      ]
    },
    {
      "cell_type": "markdown",
      "metadata": {
        "id": "LcNxkP7CXJMj"
      },
      "source": [
        "#### Notebook settings"
      ]
    },
    {
      "cell_type": "code",
      "execution_count": null,
      "metadata": {
        "id": "af4zSn9kXJMj"
      },
      "outputs": [],
      "source": [
        "%matplotlib inline\n",
        "\n",
        "# Only 5 rows of data will be displayed\n",
        "pd.set_option(\"max_rows\", 15)\n",
        "\n",
        "# Print floating point numbers using fixed point notation\n",
        "np.set_printoptions(suppress=True)\n",
        "\n",
        "# Set figure size\n",
        "LARGE_FIGSIZE = (8, 6)"
      ]
    },
    {
      "cell_type": "markdown",
      "metadata": {
        "id": "5NUDavLFXJMj"
      },
      "source": [
        "#### Graphics"
      ]
    },
    {
      "cell_type": "code",
      "execution_count": null,
      "metadata": {
        "id": "XRqnbFQJXJMk"
      },
      "outputs": [],
      "source": [
        "#from seaborn import set_style\n",
        "#set_style(\"darkgrid\")\n",
        "import seaborn as sns\n",
        "sns.set(style='ticks', context='talk')\n",
        "import matplotlib.pyplot as plt"
      ]
    },
    {
      "cell_type": "markdown",
      "metadata": {
        "id": "mPcwnMimXJMk"
      },
      "source": [
        "# <font color=\"red\">`pandas` Data Structures\n",
        "\n",
        "There are three data structures provided by the Pandas, which are as follows:\n",
        "\n",
        "- **Series**: 1D size-immutable array like structure having homogeneous data.\n",
        "- **DataFrames**: 2D size-mutable tabular structure with heterogeneously typed columns.\n",
        "- **Panel**: 3D, size-mutable array (not covered here)."
      ]
    },
    {
      "cell_type": "markdown",
      "metadata": {
        "id": "TM-DHSbeXJMk"
      },
      "source": [
        "## <font color=\"blue\">1D Data Structures: Series</font>\n",
        "\n",
        "- A <font color='red'>Series</font>  is a one-dimensional <font color='green'>**labeled**</font> array capable of holding any data type (integers, strings, floating point numbers, Python objects, etc.).\n",
        "- The row labels of Series are called the **index**.\n",
        "- Think of a Series as a cross between a list and a dict."
      ]
    },
    {
      "cell_type": "markdown",
      "metadata": {
        "id": "MV1E73eSXJMl"
      },
      "source": [
        "![title](https://github.com/astg606/py_materials/blob/master/pandas/img/pandas_series.png?raw=1)"
      ]
    },
    {
      "cell_type": "markdown",
      "metadata": {
        "id": "QU0RWvoiXJMl"
      },
      "source": [
        "#### Creating a Series\n",
        "\n",
        "A Series can be constructed with the `pd.Series` constructor (passing a list, array, dictionary or existing DataFrame).\n",
        "\n",
        "```python\n",
        "pd.Series(data=None, index=None, dtype=None,\n",
        "          name=None, copy=False)\n",
        "```\n",
        "\n",
        "- **data**: Array or dict or scalar value or iterables. It is used to populate the rows of the Series object.\n",
        "- **index**: Array or index. It is used to label the rows of the Series. It’s length must be the same as the object passed in the data parameter and all the values must be unique. `np.arrange(n)` is the default index.\n",
        "- **dtype**: Used to specify the data type of the Series which will be formed. If this parameter is not specified then the data type will be inferred from the values present in the series.\n",
        "- **copy**: Boolean used to copy the input data."
      ]
    },
    {
      "cell_type": "markdown",
      "metadata": {
        "id": "YbFD4esMXJMl"
      },
      "source": [
        "Creation from a list:"
      ]
    },
    {
      "cell_type": "code",
      "execution_count": null,
      "metadata": {
        "id": "gGjNalyvXJMl"
      },
      "outputs": [],
      "source": [
        "my_list = [5, 8, 13, 0.1, -5]"
      ]
    },
    {
      "cell_type": "markdown",
      "metadata": {
        "id": "IFFADgu0XJMm"
      },
      "source": [
        "Use a list to create a Numpy array:"
      ]
    },
    {
      "cell_type": "code",
      "execution_count": null,
      "metadata": {
        "id": "qTfQFCDaXJMm"
      },
      "outputs": [],
      "source": [
        "a = np.array(my_list)\n",
        "print(type(a))\n",
        "print(a)"
      ]
    },
    {
      "cell_type": "markdown",
      "metadata": {
        "id": "xH5rVpVxXJMm"
      },
      "source": [
        "Use a list to create a Pandas Series:"
      ]
    },
    {
      "cell_type": "code",
      "execution_count": null,
      "metadata": {
        "id": "yKPNfAbuXJMm"
      },
      "outputs": [],
      "source": [
        "sr = pd.Series(my_list)\n",
        "print(type(sr))\n",
        "print(sr)"
      ]
    },
    {
      "cell_type": "markdown",
      "metadata": {
        "id": "pn1HblqPXJMm"
      },
      "source": [
        "...get default index values"
      ]
    },
    {
      "cell_type": "markdown",
      "metadata": {
        "id": "uw4i4TMeXJMn"
      },
      "source": [
        "#### NumPy arrays as backend of Pandas"
      ]
    },
    {
      "cell_type": "markdown",
      "metadata": {
        "id": "iYZq2KBuXJMn"
      },
      "source": [
        "Contains an array of data:"
      ]
    },
    {
      "cell_type": "code",
      "execution_count": null,
      "metadata": {
        "id": "bWUq05mbXJMn"
      },
      "outputs": [],
      "source": [
        "sr.values"
      ]
    },
    {
      "cell_type": "markdown",
      "metadata": {
        "id": "0ZNnPzXWXJMn"
      },
      "source": [
        "- If nothing else is specified, the values are labeled with their index number.\n",
        "- The Pandas Series will then have an associated array of data labels from `0`, to `N-1`:"
      ]
    },
    {
      "cell_type": "code",
      "execution_count": null,
      "metadata": {
        "scrolled": true,
        "id": "Sq1p2g0wXJMn"
      },
      "outputs": [],
      "source": [
        "sr.index"
      ]
    },
    {
      "cell_type": "code",
      "execution_count": null,
      "metadata": {
        "id": "gXLv3VLQXJMo"
      },
      "outputs": [],
      "source": [
        "my_rows = list(range(5))\n",
        "print(my_rows)"
      ]
    },
    {
      "cell_type": "code",
      "execution_count": null,
      "metadata": {
        "scrolled": true,
        "id": "bLR1m5Q4XJMo"
      },
      "outputs": [],
      "source": [
        "sr.index.values"
      ]
    },
    {
      "cell_type": "markdown",
      "metadata": {
        "id": "563HfhASXJMo"
      },
      "source": [
        "Obtain statistical information:"
      ]
    },
    {
      "cell_type": "code",
      "execution_count": null,
      "metadata": {
        "id": "5FZrbrEbXJMp"
      },
      "outputs": [],
      "source": [
        "sr.describe()"
      ]
    },
    {
      "cell_type": "markdown",
      "metadata": {
        "id": "_bcGhlk_XJMp"
      },
      "source": [
        "#### More on the index"
      ]
    },
    {
      "cell_type": "markdown",
      "metadata": {
        "id": "Xqh199v9XJMp"
      },
      "source": [
        "Rename the index values:"
      ]
    },
    {
      "cell_type": "code",
      "execution_count": null,
      "metadata": {
        "id": "qVuv4kJMXJMq"
      },
      "outputs": [],
      "source": [
        "sr.index = ['A','B','C','D','E']\n",
        "print(sr)"
      ]
    },
    {
      "cell_type": "markdown",
      "metadata": {
        "id": "7Hkg8s0TXJMq"
      },
      "source": [
        "Or pass the index values during Pandas series creation:"
      ]
    },
    {
      "cell_type": "code",
      "execution_count": null,
      "metadata": {
        "id": "2N8h7NtSXJMq"
      },
      "outputs": [],
      "source": [
        "sr1 = pd.Series(my_list, index=['A','B','C','D','E'])\n",
        "print(sr1)"
      ]
    },
    {
      "cell_type": "markdown",
      "metadata": {
        "id": "gdPliny_XJMr"
      },
      "source": [
        "#### Numpy Array has an implicitly defined integer index used to access the values while the Pandas Series has an explicitly defined index associated with the values."
      ]
    },
    {
      "cell_type": "markdown",
      "metadata": {
        "id": "AA7lEHU9XJMr"
      },
      "source": [
        "Get value at position `n` in series"
      ]
    },
    {
      "cell_type": "code",
      "execution_count": null,
      "metadata": {
        "scrolled": true,
        "id": "re6fTWjBXJMr"
      },
      "outputs": [],
      "source": [
        "print(sr[3])"
      ]
    },
    {
      "cell_type": "markdown",
      "metadata": {
        "id": "Jr9oft6OXJMs"
      },
      "source": [
        "Use `iloc` (integer location) to get value at position `n`"
      ]
    },
    {
      "cell_type": "code",
      "execution_count": null,
      "metadata": {
        "id": "JJWIhxZtXJMs"
      },
      "outputs": [],
      "source": [
        "print(sr.iloc[3])"
      ]
    },
    {
      "cell_type": "markdown",
      "metadata": {
        "id": "LGw2iwgXXJMs"
      },
      "source": [
        "Value at given index using dictionary-like syntax"
      ]
    },
    {
      "cell_type": "code",
      "execution_count": null,
      "metadata": {
        "id": "WBTiw7pZXJMt"
      },
      "outputs": [],
      "source": [
        "print(sr.loc['D'])"
      ]
    },
    {
      "cell_type": "markdown",
      "metadata": {
        "id": "avOAAiUAXJMt"
      },
      "source": [
        "We can also create a Pandas Series from a dictionary:"
      ]
    },
    {
      "cell_type": "code",
      "execution_count": null,
      "metadata": {
        "id": "peqJp96wXJMt"
      },
      "outputs": [],
      "source": [
        "sr2 = pd.Series(dict(A=5, B=8, C=13, D=0.1, E=-5))\n",
        "sr2"
      ]
    },
    {
      "cell_type": "markdown",
      "metadata": {
        "id": "0eUVm43yXJMu"
      },
      "source": [
        "You can also, create a Pandas Series from a scalar data. But, if you pass a single value with multiple indexes, the value will be same for all the indexes."
      ]
    },
    {
      "cell_type": "code",
      "execution_count": null,
      "metadata": {
        "id": "9_ca-ie3XJMv"
      },
      "outputs": [],
      "source": [
        "sr3 = pd.Series(10.5, index=['A','B','C','D','E'])\n",
        "print(sr3)"
      ]
    },
    {
      "cell_type": "markdown",
      "metadata": {
        "id": "G0nmSaoeXJMv"
      },
      "source": [
        "### <font color='green'>Breakout 1</font>\n",
        "\n",
        "1. Create a Series using:\n",
        "\n",
        "```python\n",
        "   data = {'Course': \"Pandas\", 'Setting': \"Virtual\", 'Duration': \"3 hours\"}\n",
        "```\n",
        "\n",
        "2. Create a new Series with the above `data` and with the index as:\n",
        "\n",
        "```python\n",
        "   my_index = ['Course_Name', 'Course_Setting', 'Course_Duration']\n",
        "```"
      ]
    },
    {
      "cell_type": "markdown",
      "metadata": {
        "id": "ez4hW4roXJMv"
      },
      "source": [
        "<details><summary><b><font color=\"green\">Click here to access the solution</font></b></summary>\n",
        "<p>\n",
        "\n",
        "```python\n",
        "   data = {'Course': \"Pandas\", 'Setting': \"Virtual\", 'Duration': \"3 hours\"}\n",
        "   sr1 = pd.Series(data)\n",
        "   my_index = ['Course_Name', 'Course_Setting', 'Course_Duration']\n",
        "   sr2 = pd.Series(data, index=my_index)\n",
        "```\n",
        "</p>\n",
        "</details>"
      ]
    },
    {
      "cell_type": "markdown",
      "metadata": {
        "id": "gpc9GK1sXJMw"
      },
      "source": [
        "## <font color=\"blue\">2D data structures</font>\n",
        "\n",
        "Pandas: <font color='red'>DataFrame</font> is a 2-dimensional labeled data structure with columns of potentially different types. It is generally the most commonly used pandas object.\n",
        "\n",
        "A <font color='red'>DataFrame</font> is like a sequence of aligned <font color='red'>Series</font> objects, i.e. they share the same index.\n",
        "\n",
        "![title](https://github.com/astg606/py_materials/blob/master/pandas/img/pandas_df.png?raw=1)\n",
        "\n",
        "\n",
        "A DataFrame can be thought of as a generalization of a two-dimensional NumPy array, where both the rows and columns have a generalized index for accessing the data."
      ]
    },
    {
      "cell_type": "code",
      "execution_count": null,
      "metadata": {
        "id": "nhupL-z-XJMw"
      },
      "outputs": [],
      "source": [
        "df = pd.DataFrame(data=[[5, True, 'x', 2.7],\n",
        "                        [8, True, 'y', 3.1],\n",
        "                        [13,False,'z', np.NaN],\n",
        "                        [1, False, 'a', 0.1],\n",
        "                        [-5, True, 'b', -2]],\n",
        "                  index=['A','B','C','D','E'],\n",
        "                  columns=['num', 'bool', 'str', 'real'])\n",
        "print(type(df))\n",
        "df"
      ]
    },
    {
      "cell_type": "markdown",
      "metadata": {
        "id": "ZC0nh0x3XJMx"
      },
      "source": [
        "#### Inspecting data in DataFrame\n",
        "\n",
        "Display the first few rows:"
      ]
    },
    {
      "cell_type": "code",
      "execution_count": null,
      "metadata": {
        "id": "D-odeAUoXJMx"
      },
      "outputs": [],
      "source": [
        "df.head()"
      ]
    },
    {
      "cell_type": "code",
      "execution_count": null,
      "metadata": {
        "id": "Kn85ye20XJMx"
      },
      "outputs": [],
      "source": [
        "df.head(2)"
      ]
    },
    {
      "cell_type": "markdown",
      "metadata": {
        "id": "lY5V3PtqXJMx"
      },
      "source": [
        "Display the last few rows:"
      ]
    },
    {
      "cell_type": "code",
      "execution_count": null,
      "metadata": {
        "id": "75Nw0y50XJMy"
      },
      "outputs": [],
      "source": [
        "df.tail()"
      ]
    },
    {
      "cell_type": "code",
      "execution_count": null,
      "metadata": {
        "id": "ahMc7Mc3XJM1"
      },
      "outputs": [],
      "source": [
        "df.tail(3)"
      ]
    },
    {
      "cell_type": "markdown",
      "metadata": {
        "id": "7hXQwtyrXJM2"
      },
      "source": [
        "Get the number of rows and columns as a tuple:"
      ]
    },
    {
      "cell_type": "code",
      "execution_count": null,
      "metadata": {
        "id": "IKqGVfH-XJM2"
      },
      "outputs": [],
      "source": [
        "df.shape"
      ]
    },
    {
      "cell_type": "markdown",
      "metadata": {
        "id": "VhbPZ995XJM2"
      },
      "source": [
        "Get the type of each column:"
      ]
    },
    {
      "cell_type": "code",
      "execution_count": null,
      "metadata": {
        "id": "0PXQZ1_bXJM3"
      },
      "outputs": [],
      "source": [
        "df.dtypes"
      ]
    },
    {
      "cell_type": "markdown",
      "metadata": {
        "id": "CLyKl2Q3XJM3"
      },
      "source": [
        "Get list of column names:"
      ]
    },
    {
      "cell_type": "code",
      "execution_count": null,
      "metadata": {
        "id": "SwkHVDJbXJM3"
      },
      "outputs": [],
      "source": [
        "df.columns"
      ]
    },
    {
      "cell_type": "markdown",
      "metadata": {
        "id": "AHagymetXJM3"
      },
      "source": [
        "Get the index values:"
      ]
    },
    {
      "cell_type": "code",
      "execution_count": null,
      "metadata": {
        "id": "1ZKhroEUXJM4"
      },
      "outputs": [],
      "source": [
        "df.index"
      ]
    },
    {
      "cell_type": "markdown",
      "metadata": {
        "id": "BCmDICo2XJM4"
      },
      "source": [
        "#### Obtain basic data information\n",
        "\n",
        "We can get the column count, number of values in each column, data type of each column, etc.:"
      ]
    },
    {
      "cell_type": "code",
      "execution_count": null,
      "metadata": {
        "id": "eFTn6feLXJM5"
      },
      "outputs": [],
      "source": [
        "df.info()"
      ]
    },
    {
      "cell_type": "markdown",
      "metadata": {
        "id": "sGr2e0IaXJM5"
      },
      "source": [
        "#### Obtain descriptive statistics of each numeric column:"
      ]
    },
    {
      "cell_type": "code",
      "execution_count": null,
      "metadata": {
        "id": "Km4uSn7_XJM5"
      },
      "outputs": [],
      "source": [
        "df.describe()"
      ]
    },
    {
      "cell_type": "markdown",
      "metadata": {
        "id": "Gxk8eFp4XJM6"
      },
      "source": [
        "We can pass the argument `include='object'` to return the descriptive statistics of categorical (object) columns:"
      ]
    },
    {
      "cell_type": "code",
      "execution_count": null,
      "metadata": {
        "id": "mYnTVM4BXJM6"
      },
      "outputs": [],
      "source": [
        "df.describe(include='object')"
      ]
    },
    {
      "cell_type": "markdown",
      "metadata": {
        "id": "cAZkS3J_XJM6"
      },
      "source": [
        "#### Sorting records\n",
        "\n",
        "We can sort records by any column using `df.sort_values()` function. For example, we can sort the \"str\" column in ascending order."
      ]
    },
    {
      "cell_type": "code",
      "execution_count": null,
      "metadata": {
        "id": "w6boxdtCXJM6"
      },
      "outputs": [],
      "source": [
        "df.sort_values('str', ascending=True)"
      ]
    },
    {
      "cell_type": "markdown",
      "metadata": {
        "id": "s0OGOGNpXJM7"
      },
      "source": [
        "#### Slicing data\n",
        "\n",
        "Get specific column(s):"
      ]
    },
    {
      "cell_type": "code",
      "execution_count": null,
      "metadata": {
        "id": "t89W1g7_XJM7"
      },
      "outputs": [],
      "source": [
        "df['num']"
      ]
    },
    {
      "cell_type": "code",
      "execution_count": null,
      "metadata": {
        "id": "AkIALqB5XJM7"
      },
      "outputs": [],
      "source": [
        "df.num"
      ]
    },
    {
      "cell_type": "code",
      "execution_count": null,
      "metadata": {
        "id": "HMvoKcj4XJM7"
      },
      "outputs": [],
      "source": [
        "df[['num','real']]"
      ]
    },
    {
      "cell_type": "markdown",
      "metadata": {
        "id": "8aQEfoybXJM8"
      },
      "source": [
        "#### Label-based selection\n",
        "\n",
        "Get specific row(s) by name(s):"
      ]
    },
    {
      "cell_type": "code",
      "execution_count": null,
      "metadata": {
        "id": "eDEDQgpLXJM8"
      },
      "outputs": [],
      "source": [
        "df.loc['C']"
      ]
    },
    {
      "cell_type": "code",
      "execution_count": null,
      "metadata": {
        "id": "uW2H0jCkXJM8"
      },
      "outputs": [],
      "source": [
        "df.loc[['B', 'D']]"
      ]
    },
    {
      "cell_type": "code",
      "execution_count": null,
      "metadata": {
        "id": "jOtSHE5gXJM8"
      },
      "outputs": [],
      "source": [
        "df.loc['A':'E':2]"
      ]
    },
    {
      "cell_type": "markdown",
      "metadata": {
        "id": "ydSU6_TZXJM9"
      },
      "source": [
        "Get specific row(s) and column(s) by name(s):"
      ]
    },
    {
      "cell_type": "code",
      "execution_count": null,
      "metadata": {
        "id": "gMFfrHbVXJM9"
      },
      "outputs": [],
      "source": [
        "df.loc['A':'D':2, ['num', 'real']]"
      ]
    },
    {
      "cell_type": "code",
      "execution_count": null,
      "metadata": {
        "id": "TW-UyoCwXJM9"
      },
      "outputs": [],
      "source": [
        "df.loc['A':'C', 'num':'real']"
      ]
    },
    {
      "cell_type": "markdown",
      "metadata": {
        "id": "5IYAEWe_XJM-"
      },
      "source": [
        "#### Index-based selection\n",
        "\n",
        "Get specific row(s) by position(s):"
      ]
    },
    {
      "cell_type": "code",
      "execution_count": null,
      "metadata": {
        "id": "jn1eRXJkXJM-"
      },
      "outputs": [],
      "source": [
        "df.iloc[2]"
      ]
    },
    {
      "cell_type": "code",
      "execution_count": null,
      "metadata": {
        "id": "6vudGClPXJNF"
      },
      "outputs": [],
      "source": [
        "df.iloc[1:4]"
      ]
    },
    {
      "cell_type": "markdown",
      "metadata": {
        "id": "-hDzqO-cXJNF"
      },
      "source": [
        "Get specific row(s) and column(s) by position(s):"
      ]
    },
    {
      "cell_type": "code",
      "execution_count": null,
      "metadata": {
        "id": "bOUwnJNyXJNF"
      },
      "outputs": [],
      "source": [
        "df.iloc[[2,4], [1,3]]"
      ]
    },
    {
      "cell_type": "markdown",
      "metadata": {
        "id": "KKaqnm78XJNG"
      },
      "source": [
        "Display one random row:"
      ]
    },
    {
      "cell_type": "code",
      "execution_count": null,
      "metadata": {
        "id": "ktEAGyYRXJNG"
      },
      "outputs": [],
      "source": [
        "df.sample()"
      ]
    },
    {
      "cell_type": "markdown",
      "metadata": {
        "id": "mN7OtqXFXJNG"
      },
      "source": [
        "Select columns based on datatype:"
      ]
    },
    {
      "cell_type": "code",
      "execution_count": null,
      "metadata": {
        "id": "Hlc9_Dk0XJNG"
      },
      "outputs": [],
      "source": [
        "df.select_dtypes(include='object')"
      ]
    },
    {
      "cell_type": "markdown",
      "metadata": {
        "id": "OiI1OlZOXJNH"
      },
      "source": [
        "#### Filtering data\n",
        "\n",
        "Apply masking:"
      ]
    },
    {
      "cell_type": "code",
      "execution_count": null,
      "metadata": {
        "id": "O5TgrHW_XJNH"
      },
      "outputs": [],
      "source": [
        "df[df.real > 1.0]"
      ]
    },
    {
      "cell_type": "code",
      "execution_count": null,
      "metadata": {
        "id": "YCKSDoceXJNH"
      },
      "outputs": [],
      "source": [
        "df[df.real == 3.1]"
      ]
    },
    {
      "cell_type": "markdown",
      "metadata": {
        "id": "brf_gnC5XJNH"
      },
      "source": [
        "Problem with `NaN`:\n",
        "- In Python (and NumPy), the `nan`'s don’t compare to equal.\n",
        "- Pandas/NumPy uses the fact that `np.nan != np.nan`, and treats `None` like `np.nan`.\n",
        "- A scalar equality comparison versus a `None/np.nan` doesn’t provide useful information."
      ]
    },
    {
      "cell_type": "code",
      "execution_count": null,
      "metadata": {
        "id": "UhGQsKOuXJNI"
      },
      "outputs": [],
      "source": [
        "df.real"
      ]
    },
    {
      "cell_type": "code",
      "execution_count": null,
      "metadata": {
        "id": "W13pzdJRXJNI"
      },
      "outputs": [],
      "source": [
        "df.real == np.NaN"
      ]
    },
    {
      "cell_type": "markdown",
      "metadata": {
        "id": "HIMl4-yNXJNI"
      },
      "source": [
        "We can use the `isnull` method to find out which dataframe entries are '`NaN`."
      ]
    },
    {
      "cell_type": "code",
      "execution_count": null,
      "metadata": {
        "id": "Tfzr-moCXJNI"
      },
      "outputs": [],
      "source": [
        "df.isnull()"
      ]
    },
    {
      "cell_type": "code",
      "execution_count": null,
      "metadata": {
        "id": "g7NTa8DAXJNJ"
      },
      "outputs": [],
      "source": [
        "df.isnull().values.any()"
      ]
    },
    {
      "cell_type": "code",
      "execution_count": null,
      "metadata": {
        "id": "sktlXUpnXJNJ"
      },
      "outputs": [],
      "source": [
        "df.isnull().sum()"
      ]
    },
    {
      "cell_type": "markdown",
      "metadata": {
        "id": "SoZroAEXXJNJ"
      },
      "source": [
        "#### Create a DataFrame from a 2D Numpy array\n",
        "\n",
        "Given a two-dimensional array of data, we can create a dataframe with any specified column and index names. If left out, an integer index will be used for each."
      ]
    },
    {
      "cell_type": "code",
      "execution_count": null,
      "metadata": {
        "id": "9z_X7cqQXJNJ"
      },
      "outputs": [],
      "source": [
        "my_nparray = np.random.rand(3, 2)\n",
        "print(\"Numpy array: \", my_nparray)"
      ]
    },
    {
      "cell_type": "markdown",
      "metadata": {
        "id": "bg1i-yJBXJNK"
      },
      "source": [
        "Create a Pandas dataframe using a Numpy array"
      ]
    },
    {
      "cell_type": "code",
      "execution_count": null,
      "metadata": {
        "id": "yRhpo596XJNK"
      },
      "outputs": [],
      "source": [
        "pddf = pd.DataFrame(my_nparray,\n",
        "                    columns=['foo', 'bar'],\n",
        "                    index=['a', 'b', 'c'])\n",
        "pddf"
      ]
    },
    {
      "cell_type": "markdown",
      "metadata": {
        "id": "Wsr70WhwXJNK"
      },
      "source": [
        "We can create a NumPy array from a Pandas DataFrame:"
      ]
    },
    {
      "cell_type": "code",
      "execution_count": null,
      "metadata": {
        "id": "j3BGekfOXJNK"
      },
      "outputs": [],
      "source": [
        "my_nparray2 = pddf.to_numpy()\n",
        "print(f\"Numpy array: {my_nparray2}\")"
      ]
    },
    {
      "cell_type": "markdown",
      "metadata": {
        "id": "Q7Z_de4LXJNK"
      },
      "source": [
        "Create a Pandas dataframe using Pandas series"
      ]
    },
    {
      "cell_type": "code",
      "execution_count": null,
      "metadata": {
        "id": "zhB8dM1iXJNL"
      },
      "outputs": [],
      "source": [
        "pdsr1 = pd.Series(np.random.rand(3))\n",
        "print(\"First_Series: \\n\", pdsr1)"
      ]
    },
    {
      "cell_type": "code",
      "execution_count": null,
      "metadata": {
        "id": "5CuEi0zwXJNL"
      },
      "outputs": [],
      "source": [
        "pdsr2 = pd.Series(np.random.rand(3))\n",
        "print(\"Second_Series: \\n\", pdsr2)"
      ]
    },
    {
      "cell_type": "code",
      "execution_count": null,
      "metadata": {
        "id": "6-Vzt0rQXJNL"
      },
      "outputs": [],
      "source": [
        "df1 = pd.DataFrame(dict(First_Series = pdsr1, Second_Series = pdsr2))\n",
        "print(df1)"
      ]
    },
    {
      "cell_type": "markdown",
      "metadata": {
        "id": "CGcvYOKrXJNL"
      },
      "source": [
        "We can also use the `concat` function:"
      ]
    },
    {
      "cell_type": "code",
      "execution_count": null,
      "metadata": {
        "id": "Q1B_-uGjXJNL"
      },
      "outputs": [],
      "source": [
        "df2 = pd.concat([pdsr2, pdsr2], axis=1)\n",
        "df2.columns = ['First_Series', 'Second_Series']\n",
        "print(df2)"
      ]
    },
    {
      "cell_type": "markdown",
      "metadata": {
        "id": "26Nv_jNsXJNM"
      },
      "source": [
        "### <font color='green'>Breakout 2</font>\n",
        "In the above Pandas dataframe, relabel the index as `['Row0', 'Row1', 'Row2']`.\n",
        "\n",
        "<p>\n",
        "<p>\n",
        "    \n",
        "<details><summary><b><font color=\"green\">Click here to access the solution</font></b></summary>\n",
        "<p>\n",
        "\n",
        "```python\n",
        "df1.index = ['Row0', 'Row1', 'Row2']\n",
        "```\n",
        "</p>\n",
        "</details>"
      ]
    },
    {
      "cell_type": "markdown",
      "metadata": {
        "id": "FXCmpJivXJNM"
      },
      "source": [
        "### <font color='green'>Breakout 3</font>\n",
        "The code below creates a Pandas DataFrame of students' grades.\n",
        "\n",
        "```python\n",
        "columns = [\"Students\", \"Engl\", \"Phys\", \"Math\", \"Comp\"]\n",
        "students = [\"Julia\", \"Jules\", \"Julio\"]\n",
        "engl_grades = [\"A\", \"D\", \"B\"]\n",
        "phys_grades = [\"A\", \"A\", \"C\"]\n",
        "math_grades = [\"C\", \"A\", \"A\"]\n",
        "comp_grades = [\"B\", \"B\", \"C\"]\n",
        "\n",
        "zipped = list(zip(students, engl_grades, phys_grades,\n",
        "                  math_grades, comp_grades))\n",
        "student_df = pd.DataFrame(zipped, columns = columns)\n",
        "```\n",
        "\n",
        "Do the following:\n",
        "- Set the `Students` as index.\n",
        "- Replace the letters (`A`, `B`, `C`, `D`) with numbers (`4`, `3`, `2`, `1`)\n",
        "- Compute the GPA of each student.\n",
        "\n",
        "<p>\n",
        "<p>\n",
        "    \n",
        "<details><summary><b><font color=\"green\">Click here to access the solution</font></b></summary>\n",
        "<p>\n",
        "\n",
        "```python\n",
        "# Question 1\n",
        "student_df = student_df.set_index(columns[0])\n",
        "    \n",
        "# Question 2\n",
        "mymap = {'A': 4, 'B': 3, 'C': 2, 'D': 1}\n",
        "new_student_df = student_df.applymap(lambda s: mymap.get(s) if s in mymap else s)\n",
        "    \n",
        "# Question 3\n",
        "new_student_df.mean(axis=1)\n",
        "```\n",
        "</p>\n",
        "</details>"
      ]
    },
    {
      "cell_type": "markdown",
      "metadata": {
        "id": "zurQXwWWXJNM"
      },
      "source": [
        "**A pandas dataframe can be seen as a collection of pandas series**\n",
        "![fig_objects](https://doit-test.readthedocs.io/en/latest/_images/base_01_pandas_5_0.png)\n",
        "Image Source: doit-test.readthedocs.io"
      ]
    },
    {
      "cell_type": "markdown",
      "metadata": {
        "id": "QkaZpAI_XJNM"
      },
      "source": [
        "### Important Operations on DataFrames\n",
        "\n",
        "- `apply()`\n",
        "- Merging\n",
        "   - `concat()`\n",
        "   - `join()`\n",
        "   - `merge()`\n",
        "- Comparing\n",
        "   - `compare()`\n",
        "- Grouping\n",
        "   - `groupby()`"
      ]
    },
    {
      "cell_type": "markdown",
      "metadata": {
        "id": "rx90yi4hXJNN"
      },
      "source": [
        "# <font color='red'>Pandas DateTime</font>\n",
        "- Many data points we collect are obtained at different time intervals and ordered chronologically. They are referred as time series data.\n",
        "- The [datetime](https://docs.python.org/3/library/datetime.html) provides functionalities for manipulating dates and times.\n",
        "- Pandas provides a number to tools to handle times series data by including methods for manipulation `datetime` objects."
      ]
    },
    {
      "cell_type": "markdown",
      "metadata": {
        "id": "0T2w7Aj2XJNN"
      },
      "source": [
        "Generate sequences of fixed-frequency dates and time spans:"
      ]
    },
    {
      "cell_type": "code",
      "execution_count": null,
      "metadata": {
        "id": "UeI33OwLXJNN"
      },
      "outputs": [],
      "source": [
        "dti = pd.date_range('2022-01-01', periods=15, freq='H')\n",
        "print(type(dti))\n",
        "dti"
      ]
    },
    {
      "cell_type": "markdown",
      "metadata": {
        "id": "Bdq0QG-cXJNN"
      },
      "source": [
        "Manipulating and converting date times with timezone information:"
      ]
    },
    {
      "cell_type": "code",
      "execution_count": null,
      "metadata": {
        "id": "i5CR5LhhXJNN"
      },
      "outputs": [],
      "source": [
        "dti = dti.tz_localize(\"UTC\")\n",
        "dti"
      ]
    },
    {
      "cell_type": "markdown",
      "metadata": {
        "id": "gxPKbs4PXJNO"
      },
      "source": [
        "Use the sequence to create a Pandas series:"
      ]
    },
    {
      "cell_type": "code",
      "execution_count": null,
      "metadata": {
        "id": "zmcziI28XJNO"
      },
      "outputs": [],
      "source": [
        "ts = pd.Series(range(len(dti)), index=dti)\n",
        "print(ts)"
      ]
    },
    {
      "cell_type": "markdown",
      "metadata": {
        "id": "FFTTY85DXJNO"
      },
      "source": [
        "Resample or convert the time series to a particular frequency:\n",
        "\n",
        "- Sample every two hours and compute the mean"
      ]
    },
    {
      "cell_type": "code",
      "execution_count": null,
      "metadata": {
        "id": "o2kVjJr9XJNO"
      },
      "outputs": [],
      "source": [
        "ts.resample('2H').mean()"
      ]
    },
    {
      "cell_type": "markdown",
      "metadata": {
        "id": "jwiZAFMOXJNO"
      },
      "source": [
        "Create a Pandas series where the index is the time component:"
      ]
    },
    {
      "cell_type": "code",
      "execution_count": null,
      "metadata": {
        "id": "zAiP1KX2XJNP"
      },
      "outputs": [],
      "source": [
        "num_periods = 67\n",
        "ts = pd.Series(np.random.random(num_periods),\n",
        "               index=pd.date_range('2021-01',\n",
        "                                   periods=num_periods,\n",
        "                                   freq='W'))\n",
        "ts"
      ]
    },
    {
      "cell_type": "markdown",
      "metadata": {
        "id": "PtGP8_hmXJNP"
      },
      "source": [
        "Create a Pandas DataFrame where the index is the time component:"
      ]
    },
    {
      "cell_type": "code",
      "execution_count": null,
      "metadata": {
        "id": "Or5uuxlRXJNP"
      },
      "outputs": [],
      "source": [
        "num_periods = 2500\n",
        "df = pd.DataFrame(dict(X = np.random.random(num_periods),\n",
        "                       Y = -5+np.random.random(num_periods)),\n",
        "                  index=pd.date_range('2000',\n",
        "                                      periods=num_periods,\n",
        "                                      freq='D'))\n",
        "df"
      ]
    },
    {
      "cell_type": "markdown",
      "metadata": {
        "id": "hF1viRC7XJNP"
      },
      "source": [
        "**Resampling**\n",
        "- The `resample()` function is used to resample time-series data.\n",
        "- It groups data by a certain time span.\n",
        "- You specify a method of how you would like to resample.\n",
        "- Pandas comes with many in-built options for resampling, and you can even define your own methods.\n",
        "\n",
        "Here are some time period options:\n",
        "\n",
        "| Alias | Description |\n",
        "| --- | --- |\n",
        "| 'D' |\tCalendar day |\n",
        "| 'W' |\tWeekly |\n",
        "| 'M' |\tMonth end |\n",
        "| 'Q' |\tQuarter end |\n",
        "| 'A' |\tYear end |\n",
        "\n",
        "Here are some method options for resampling:\n",
        "\n",
        "| Method | Description |\n",
        "| --- | --- |\n",
        "| max |\tMaximum value |\n",
        "| mean |\tMean of values in time range |\n",
        "| median |\tMedian of values in time range |\n",
        "| min |\tMinimum data value |\n",
        "| sum |\tSum of values |"
      ]
    },
    {
      "cell_type": "code",
      "execution_count": null,
      "metadata": {
        "id": "z1XSFG5jXJNQ"
      },
      "outputs": [],
      "source": [
        "df.X.resample('Y').mean()"
      ]
    },
    {
      "cell_type": "code",
      "execution_count": null,
      "metadata": {
        "id": "vfdSmQ5kXJNQ"
      },
      "outputs": [],
      "source": [
        "df.Y.resample('W').sum()"
      ]
    },
    {
      "cell_type": "code",
      "execution_count": null,
      "metadata": {
        "id": "IduGBBeuXJNQ"
      },
      "outputs": [],
      "source": [
        "df.X.resample('Q').median()"
      ]
    },
    {
      "cell_type": "markdown",
      "metadata": {
        "id": "cyf7y0SMXJNR"
      },
      "source": [
        "# <font color=\"red\">Applications</font>"
      ]
    },
    {
      "cell_type": "markdown",
      "metadata": {
        "id": "X12BCd2KXJNR"
      },
      "source": [
        "## <font color=\"blue\"> Report on UFO Sightings</font>"
      ]
    },
    {
      "cell_type": "code",
      "execution_count": null,
      "metadata": {
        "id": "0WUkl80PXJNR"
      },
      "outputs": [],
      "source": [
        "url = 'http://bit.ly/uforeports'\n",
        "df_ufo = pd.read_csv(url)\n",
        "df_ufo"
      ]
    },
    {
      "cell_type": "markdown",
      "metadata": {
        "id": "Q2JLhVeaXJNR"
      },
      "source": [
        "Convert the Time column to datetime format:"
      ]
    },
    {
      "cell_type": "code",
      "execution_count": null,
      "metadata": {
        "id": "uIual_8pXJNS"
      },
      "outputs": [],
      "source": [
        "df_ufo['Time'] = pd.to_datetime(df_ufo.Time)\n",
        "df_ufo"
      ]
    },
    {
      "cell_type": "markdown",
      "metadata": {
        "id": "xkNOplETXJNU"
      },
      "source": [
        "Rename the column to Date:"
      ]
    },
    {
      "cell_type": "code",
      "execution_count": null,
      "metadata": {
        "id": "2jraWVFuXJNU"
      },
      "outputs": [],
      "source": [
        "df_ufo.rename(columns={'Time':'Date'}, inplace=True)\n",
        "df_ufo"
      ]
    },
    {
      "cell_type": "markdown",
      "metadata": {
        "id": "mUn2eKGvXJNU"
      },
      "source": [
        "Move the Date column as the DataFrame index:"
      ]
    },
    {
      "cell_type": "code",
      "execution_count": null,
      "metadata": {
        "id": "xclPw8slXJNU"
      },
      "outputs": [],
      "source": [
        "df_ufo = df_ufo.set_index(['Date'])\n",
        "df_ufo"
      ]
    },
    {
      "cell_type": "markdown",
      "metadata": {
        "id": "ca_7t-n7XJNV"
      },
      "source": [
        "**Question 1**: How to determine the number of sightings between two dates?"
      ]
    },
    {
      "cell_type": "code",
      "execution_count": null,
      "metadata": {
        "id": "jxn7vp7iXJNV"
      },
      "outputs": [],
      "source": [
        "df1 = df_ufo.loc['1978-01-01 09:00:00':'1980-01-01 11:00:00']\n",
        "df1"
      ]
    },
    {
      "cell_type": "markdown",
      "metadata": {
        "id": "NJX92UJGXJNV"
      },
      "source": [
        "**Question 2**: How to extract the sightings at a specific month?"
      ]
    },
    {
      "cell_type": "code",
      "execution_count": null,
      "metadata": {
        "id": "If4H73x-XJNV"
      },
      "outputs": [],
      "source": [
        "df2 = df_ufo[df_ufo.index.month == 2]\n",
        "df2"
      ]
    },
    {
      "cell_type": "markdown",
      "metadata": {
        "id": "eMR0KN6UXJNV"
      },
      "source": [
        "**Question 3**: How to extract the sightings in a given State?"
      ]
    },
    {
      "cell_type": "code",
      "execution_count": null,
      "metadata": {
        "id": "Zu34Ohz4XJNW"
      },
      "outputs": [],
      "source": [
        "df3 = df_ufo[df_ufo['State']== 'CA']\n",
        "df3"
      ]
    },
    {
      "cell_type": "markdown",
      "metadata": {
        "id": "vqgNgGgnXJNW"
      },
      "source": [
        "**Question 4**: How to count the number of sightings in each state?"
      ]
    },
    {
      "cell_type": "code",
      "execution_count": null,
      "metadata": {
        "id": "8UyNXWwHXJNW"
      },
      "outputs": [],
      "source": [
        "df_ufo.groupby(['State']).count()"
      ]
    },
    {
      "cell_type": "markdown",
      "metadata": {
        "id": "oIpnFVbUXJNW"
      },
      "source": [
        "## <font color=\"blue\">Population Data</font>\n",
        "\n",
        "### Using the `groupby` Function and Related Functions to Aggregate"
      ]
    },
    {
      "cell_type": "markdown",
      "metadata": {
        "id": "1Out1TyOXJNW"
      },
      "source": [
        "Read data from url as pandas dataframe:"
      ]
    },
    {
      "cell_type": "code",
      "execution_count": null,
      "metadata": {
        "id": "EpYfIzdZXJNW"
      },
      "outputs": [],
      "source": [
        "pop_url = 'http://bit.ly/2cLzoxH'\n",
        "\n",
        "pop_data = pd.read_csv(pop_url)\n",
        "pop_data"
      ]
    },
    {
      "cell_type": "markdown",
      "metadata": {
        "id": "zdCUGW4zXJNW"
      },
      "source": [
        "Convert the `year` values as datetime objects and make the `year` as index:"
      ]
    },
    {
      "cell_type": "code",
      "execution_count": null,
      "metadata": {
        "id": "ETDXwhUdXJNX"
      },
      "outputs": [],
      "source": [
        "pop_data['year'] = pd.to_datetime(pop_data.year, format=\"%Y\")\n",
        "pop_data.rename(columns={'year':'Year'}, inplace=True)\n",
        "pop_data = pop_data.set_index(['Year'])\n",
        "pop_data"
      ]
    },
    {
      "cell_type": "markdown",
      "metadata": {
        "id": "EHGkJL9VXJNX"
      },
      "source": [
        "We want to create a new dataframe by selecting the `continent` and `pop` columns only:"
      ]
    },
    {
      "cell_type": "code",
      "execution_count": null,
      "metadata": {
        "id": "FIf7iEH_XJNX"
      },
      "outputs": [],
      "source": [
        "continent_pop = pop_data[['continent', 'pop']]\n",
        "continent_pop"
      ]
    },
    {
      "cell_type": "markdown",
      "metadata": {
        "id": "5uLtqP08XJNX"
      },
      "source": [
        "### Pandas `groupby()` Function\n",
        "\n",
        "- It is used to group rows that have the same values.\n",
        "- It is used with **aggregate functions** (`count`, `sum`, `min`, `max`, `mean`) to get the statistics based on one or more column values.\n",
        "- It is also called **Split-Apply-Combine** process:\n",
        "    - The `groupby()` function splits the data into groups based on some criteria.\n",
        "    - The aggregate function is applied to each of the groups.\n",
        "    - The groups are combined together to create a new DataFrame."
      ]
    },
    {
      "cell_type": "code",
      "execution_count": null,
      "metadata": {
        "id": "iRRNJuIBXJNX"
      },
      "outputs": [],
      "source": [
        "grouped_pop = continent_pop.groupby(\"continent\")\n",
        "grouped_pop"
      ]
    },
    {
      "cell_type": "markdown",
      "metadata": {
        "id": "FG3b5Wc0XJNX"
      },
      "source": [
        "How could then print the new DataFrame?"
      ]
    },
    {
      "cell_type": "code",
      "execution_count": null,
      "metadata": {
        "id": "ZIZAjQ6GXJNY"
      },
      "outputs": [],
      "source": [
        "grouped_pop.head()"
      ]
    },
    {
      "cell_type": "markdown",
      "metadata": {
        "id": "d4g7hblQXJNY"
      },
      "source": [
        "Obtain statistical description:"
      ]
    },
    {
      "cell_type": "code",
      "execution_count": null,
      "metadata": {
        "id": "cUlNlF3pXJNY"
      },
      "outputs": [],
      "source": [
        "grouped_pop.describe().transpose()"
      ]
    },
    {
      "cell_type": "markdown",
      "metadata": {
        "id": "DB8CQjHWXJNY"
      },
      "source": [
        "**Iterating through Groups**"
      ]
    },
    {
      "cell_type": "code",
      "execution_count": null,
      "metadata": {
        "id": "T9kLiGAQXJNY"
      },
      "outputs": [],
      "source": [
        "for key, item in grouped_pop:\n",
        "    print(f\"Key is: {str(key)}\")\n",
        "    print(f\"{str(item)} \\n\\n\")"
      ]
    },
    {
      "cell_type": "markdown",
      "metadata": {
        "id": "lK3DZmRwXJNY"
      },
      "source": [
        "#### Selecting a Group\n",
        "\n",
        "A single group can be selected using `get_group()`:"
      ]
    },
    {
      "cell_type": "code",
      "execution_count": null,
      "metadata": {
        "id": "pd6BlVraXJNZ"
      },
      "outputs": [],
      "source": [
        "grouped_pop.get_group('Oceania')"
      ]
    },
    {
      "cell_type": "markdown",
      "metadata": {
        "id": "QpucNk82XJNZ"
      },
      "source": [
        "#### Functions To Aggregate"
      ]
    },
    {
      "cell_type": "markdown",
      "metadata": {
        "id": "65FadUskXJNZ"
      },
      "source": [
        "**`mean()`** computes mean values for each group:"
      ]
    },
    {
      "cell_type": "code",
      "execution_count": null,
      "metadata": {
        "id": "3l29Rw7lXJNZ"
      },
      "outputs": [],
      "source": [
        "grouped_pop.aggregate(np.mean)"
      ]
    },
    {
      "cell_type": "code",
      "execution_count": null,
      "metadata": {
        "id": "fGc7W7-lXJNZ"
      },
      "outputs": [],
      "source": [
        "grouped_pop.mean()"
      ]
    },
    {
      "cell_type": "markdown",
      "metadata": {
        "id": "gho8a9nMXJNZ"
      },
      "source": [
        "**`sum()`** adds of values within each group."
      ]
    },
    {
      "cell_type": "code",
      "execution_count": null,
      "metadata": {
        "id": "WWIcg1LCXJNZ"
      },
      "outputs": [],
      "source": [
        "grouped_pop.aggregate(np.sum)"
      ]
    },
    {
      "cell_type": "code",
      "execution_count": null,
      "metadata": {
        "id": "DjMT5_KbXJNZ"
      },
      "outputs": [],
      "source": [
        "grouped_pop.sum()"
      ]
    },
    {
      "cell_type": "markdown",
      "metadata": {
        "id": "F_o5LeMFXJNZ"
      },
      "source": [
        "**`size()`** computes the size per each group."
      ]
    },
    {
      "cell_type": "code",
      "execution_count": null,
      "metadata": {
        "id": "BlR_HRDDXJNa"
      },
      "outputs": [],
      "source": [
        "grouped_pop.aggregate(np.size)"
      ]
    },
    {
      "cell_type": "code",
      "execution_count": null,
      "metadata": {
        "id": "D0VD6vEgXJNa"
      },
      "outputs": [],
      "source": [
        "grouped_pop.size()"
      ]
    },
    {
      "cell_type": "markdown",
      "metadata": {
        "id": "JweHnvfQXJNa"
      },
      "source": [
        "For each group, you can similarly use:\n",
        "    \n",
        "- `count()`: computes the number of values.\n",
        "- `max()`: gets maximum value.\n",
        "- `min()`: gets minimum value.\n",
        "- `std()`: computes standard deviation of the values.\n",
        "- `var()`: computes variance, an estimate of variability.\n",
        "- `sem()`: computes standard error of the mean values."
      ]
    },
    {
      "cell_type": "markdown",
      "metadata": {
        "id": "fIUs7D1xXJNa"
      },
      "source": [
        "**Applying several functions at once**"
      ]
    },
    {
      "cell_type": "code",
      "execution_count": null,
      "metadata": {
        "id": "9Gqr6bXHXJNa"
      },
      "outputs": [],
      "source": [
        "grouped_pop.agg([np.sum, np.mean, np.std])"
      ]
    },
    {
      "cell_type": "markdown",
      "metadata": {
        "id": "DdAdIT1lXJNa"
      },
      "source": [
        "**`describe()`** computes a quick summary of values per group"
      ]
    },
    {
      "cell_type": "code",
      "execution_count": null,
      "metadata": {
        "id": "GEEE10SOXJNa"
      },
      "outputs": [],
      "source": [
        "grouped_pop.describe()"
      ]
    },
    {
      "cell_type": "markdown",
      "metadata": {
        "id": "4q2OPEVxXJNa"
      },
      "source": [
        "**`first()`** gets the first row value within each group."
      ]
    },
    {
      "cell_type": "code",
      "execution_count": null,
      "metadata": {
        "id": "qgBphaw5XJNa"
      },
      "outputs": [],
      "source": [
        "grouped_pop.first()"
      ]
    },
    {
      "cell_type": "markdown",
      "metadata": {
        "id": "ZMpgmTd6XJNa"
      },
      "source": [
        "**`last()`** gets the last row value within each group."
      ]
    },
    {
      "cell_type": "code",
      "execution_count": null,
      "metadata": {
        "id": "TZKI03Z8XJNb"
      },
      "outputs": [],
      "source": [
        "grouped_pop.last()"
      ]
    },
    {
      "cell_type": "markdown",
      "metadata": {
        "id": "RzEIMGbnXJNb"
      },
      "source": [
        "**`nth()`** gives nth value, in each group."
      ]
    },
    {
      "cell_type": "code",
      "execution_count": null,
      "metadata": {
        "id": "1OXXnFi4XJNb"
      },
      "outputs": [],
      "source": [
        "grouped_pop.nth(8)"
      ]
    },
    {
      "cell_type": "markdown",
      "metadata": {
        "id": "uCY1VSIkXJNb"
      },
      "source": [
        "## <font color=\"blue\">Read HTML Table</font>\n",
        "\n",
        "We want to be able to read the **Election results from statewide races** table from:\n",
        "\n",
        "[https://en.wikipedia.org/wiki/Minnesota](https://en.wikipedia.org/wiki/Minnesota)\n"
      ]
    },
    {
      "cell_type": "code",
      "execution_count": null,
      "metadata": {
        "id": "zOXOukaaXJNb"
      },
      "outputs": [],
      "source": [
        "df_table = pd.read_html('https://en.wikipedia.org/wiki/Minnesota')\n",
        "df_table"
      ]
    },
    {
      "cell_type": "markdown",
      "metadata": {
        "id": "bxTWZOoMXJNb"
      },
      "source": [
        "We read all the tables from the webpage. We can select the specific table we want to read by using the `match` parameter:"
      ]
    },
    {
      "cell_type": "code",
      "execution_count": null,
      "metadata": {
        "id": "3j-xgnLeXJNb"
      },
      "outputs": [],
      "source": [
        "df_table = pd.read_html('https://en.wikipedia.org/wiki/Minnesota',\n",
        "                        match='Election results from statewide races')\n",
        "\n",
        "df_table"
      ]
    },
    {
      "cell_type": "code",
      "execution_count": null,
      "metadata": {
        "id": "z7LOWgjgXJNb"
      },
      "outputs": [],
      "source": [
        "type(df_table)"
      ]
    },
    {
      "cell_type": "markdown",
      "metadata": {
        "id": "oFUc86P7XJNb"
      },
      "source": [
        "You can see that the result is a list containing one DataFrame. We can then extract the DataFrame:"
      ]
    },
    {
      "cell_type": "code",
      "execution_count": null,
      "metadata": {
        "id": "qWxPILkiXJNb"
      },
      "outputs": [],
      "source": [
        "df = df_table[0]\n",
        "df"
      ]
    },
    {
      "cell_type": "markdown",
      "metadata": {
        "id": "LFwlMTBdXJNc"
      },
      "source": [
        "Let us gather basic information on rows and columns:"
      ]
    },
    {
      "cell_type": "code",
      "execution_count": null,
      "metadata": {
        "id": "hYZSCtUFXJNc"
      },
      "outputs": [],
      "source": [
        "df.info()"
      ]
    },
    {
      "cell_type": "markdown",
      "metadata": {
        "id": "Dl57dbcCXJNc"
      },
      "source": [
        "- Notice that the columns `GOP`, `DFL` and `Other` more likely have the string type.\n",
        "- We want them to have numerical values.\n",
        "- We can use the `regex=True` parameter to replace the string `%` with an empty space."
      ]
    },
    {
      "cell_type": "code",
      "execution_count": null,
      "metadata": {
        "id": "tk3X10QKXJNc"
      },
      "outputs": [],
      "source": [
        "df = df.replace({'%': ''}, regex=True)\n",
        "df"
      ]
    },
    {
      "cell_type": "code",
      "execution_count": null,
      "metadata": {
        "id": "lZX-EOQfXJNc"
      },
      "outputs": [],
      "source": [
        "df.info()"
      ]
    },
    {
      "cell_type": "markdown",
      "metadata": {
        "id": "aIwRhaBAXJNc"
      },
      "source": [
        "- The Columns `GOP`, `DFL` and `Others` are still strings.\n",
        "- We need to convert them into floating point numbers."
      ]
    },
    {
      "cell_type": "code",
      "execution_count": null,
      "metadata": {
        "id": "Isam2CV0XJNc"
      },
      "outputs": [],
      "source": [
        "df[['GOP', 'DFL', 'Others']] = df[['GOP', 'DFL', 'Others']].apply(pd.to_numeric)\n",
        "df.info()"
      ]
    },
    {
      "cell_type": "markdown",
      "metadata": {
        "id": "WaltMiiVXJNc"
      },
      "source": [
        "We now want to group by `Office`:"
      ]
    },
    {
      "cell_type": "code",
      "execution_count": null,
      "metadata": {
        "id": "60jXc0i9XJNc"
      },
      "outputs": [],
      "source": [
        "df_office = df.groupby(\"Office\")\n",
        "df_office.head()"
      ]
    },
    {
      "cell_type": "markdown",
      "metadata": {
        "id": "rlZrkx9nXJNc"
      },
      "source": [
        "We can select the group `President`:"
      ]
    },
    {
      "cell_type": "code",
      "execution_count": null,
      "metadata": {
        "id": "H6msUGF8XJNc"
      },
      "outputs": [],
      "source": [
        "df_president = df_office.get_group('President')\n",
        "df_president"
      ]
    },
    {
      "cell_type": "markdown",
      "metadata": {
        "id": "kChLNfF0XJNd"
      },
      "source": [
        "Compute averages:"
      ]
    },
    {
      "cell_type": "code",
      "execution_count": null,
      "metadata": {
        "id": "dBUHT3mAXJNd"
      },
      "outputs": [],
      "source": [
        "df_president['GOP'].mean()"
      ]
    },
    {
      "cell_type": "code",
      "execution_count": null,
      "metadata": {
        "id": "R459e8IUXJNd"
      },
      "outputs": [],
      "source": [
        "df_president['DFL'].mean()"
      ]
    },
    {
      "cell_type": "markdown",
      "metadata": {
        "id": "3vmZMh8_XJNd"
      },
      "source": [
        "We can do a time series plot:"
      ]
    },
    {
      "cell_type": "code",
      "execution_count": null,
      "metadata": {
        "id": "4L8JcqyPXJNd"
      },
      "outputs": [],
      "source": [
        "plt.style.use('seaborn-whitegrid')\n",
        "df_president.plot.line(x='Year', y=['GOP', 'DFL'],\n",
        "                       color=['red', 'blue']);"
      ]
    },
    {
      "cell_type": "markdown",
      "metadata": {
        "id": "cVNWvvo6XJNd"
      },
      "source": [
        "## <font color=\"blue\">AERONET Observations at Goddard</font>\n",
        "\n",
        "![fig_aeronet](https://www.nasa.gov/images/content/363322main_bamgomas_maps.jpg)\n",
        "Image Source: NASA\n",
        "\n",
        "- [AERONET](https://aeronet.gsfc.nasa.gov/) (AErosol RObotic NETwork) is a globally distributed network of identical robotically controlled ground-based sun/sky scanning radiometers.\n",
        "- Each instrument measures the intensity of sun and sky light throughout daylight hours from the ultraviolet through the near-infrared.\n",
        "- The program provides a longterm, continuous, and accessible public domain database of aerosol optical, microphysical, and radiative properties for aerosol research including, aerosol characterization, validation of satellite retrievals and model predictions, and synergism with other databases.\n",
        "- Here are some Science benefits of AERONET:\n",
        "     - AERONET measurements are used to validate and advance algorithm development of satellite retrievals of aerosols.\n",
        "     - Aerosol transport models use aerosol data from AERONET to validate and improve model algorithms.\n",
        "     - Aerosol assimilation models as well as weather prediction models use real time AERONET data to improve predictions.\n",
        "     - Long-term commitment to AERONET sites worldwide provides assessment of the regional climatological impact of aerosols (e.g., aerosol amount, size, and heating or cooling effects).\n",
        "- Over 840 stations worldwide.\n",
        "- Here, we analyze the measurements (Aerosol Optical Depth (AOD)) at the [NASA GSFC](https://aeronet.gsfc.nasa.gov/new_web/photo_db_v3/GSFC.html) site."
      ]
    },
    {
      "cell_type": "code",
      "execution_count": null,
      "metadata": {
        "id": "sfgAaQMdXJNd"
      },
      "outputs": [],
      "source": [
        "url = \"https://raw.githubusercontent.com/astg606/py_materials/master/aeronet/\"\n",
        "filename = url+\"19930101_20210102_GSFC.lev20\""
      ]
    },
    {
      "cell_type": "code",
      "execution_count": null,
      "metadata": {
        "id": "3GrAwRdEXJNd"
      },
      "outputs": [],
      "source": [
        "dateparse = lambda x: datetime.datetime.strptime(x, '%d:%m:%Y %H:%M:%S')\n",
        "df = pd.read_csv(filename, skiprows=6, na_values=-999,\n",
        "                 parse_dates={'datetime': [0, 1]},\n",
        "                 date_parser=dateparse, index_col=0,\n",
        "                 squeeze=True)"
      ]
    },
    {
      "cell_type": "code",
      "execution_count": null,
      "metadata": {
        "id": "bwDPyRVsXJNd"
      },
      "outputs": [],
      "source": [
        "df"
      ]
    },
    {
      "cell_type": "code",
      "execution_count": null,
      "metadata": {
        "id": "vnNgoUAaXJNd"
      },
      "outputs": [],
      "source": [
        "df.columns"
      ]
    },
    {
      "cell_type": "code",
      "execution_count": null,
      "metadata": {
        "id": "9z2xAvx6XJNe"
      },
      "outputs": [],
      "source": [
        "df.describe().transpose()"
      ]
    },
    {
      "cell_type": "markdown",
      "metadata": {
        "id": "VKCRV70SXJNe"
      },
      "source": [
        "**Renaming of the Columns of Interest**"
      ]
    },
    {
      "cell_type": "code",
      "execution_count": null,
      "metadata": {
        "id": "9YOKfbDpXJNe"
      },
      "outputs": [],
      "source": [
        "old_cols = ['Day_of_Year', 'AOD_675nm', 'AOD_440nm',\n",
        "            '440-675_Angstrom_Exponent']\n",
        "\n",
        "new_cols = ['DoY', 'A675', 'A440', 'Alpha']"
      ]
    },
    {
      "cell_type": "code",
      "execution_count": null,
      "metadata": {
        "id": "twhw7tQLXJNe"
      },
      "outputs": [],
      "source": [
        "df_GSFC = df[old_cols]\n",
        "df_GSFC.columns = new_cols"
      ]
    },
    {
      "cell_type": "code",
      "execution_count": null,
      "metadata": {
        "id": "AA8SyiNKXJNe"
      },
      "outputs": [],
      "source": [
        "df_GSFC"
      ]
    },
    {
      "cell_type": "markdown",
      "metadata": {
        "id": "TYtNzdR-XJNe"
      },
      "source": [
        "**Plotting**"
      ]
    },
    {
      "cell_type": "code",
      "execution_count": null,
      "metadata": {
        "id": "JMhf_xvhXJNe"
      },
      "outputs": [],
      "source": [
        "df_GSFC[\"A675\"].plot()"
      ]
    },
    {
      "cell_type": "code",
      "execution_count": null,
      "metadata": {
        "id": "2Dspr7qnXJNe"
      },
      "outputs": [],
      "source": [
        "df_GSFC[\"A675\"].plot()"
      ]
    },
    {
      "cell_type": "code",
      "execution_count": null,
      "metadata": {
        "id": "7HdbWqkHXJNe"
      },
      "outputs": [],
      "source": [
        "df_GSFC[[\"A675\", \"A440\"]].plot()"
      ]
    },
    {
      "cell_type": "code",
      "execution_count": null,
      "metadata": {
        "id": "UmFQgcP8XJNf"
      },
      "outputs": [],
      "source": [
        "df_GSFC[[\"A675\", \"A440\"]].plot(subplots='True')"
      ]
    },
    {
      "cell_type": "code",
      "execution_count": null,
      "metadata": {
        "id": "2Io2eQGpXJNf"
      },
      "outputs": [],
      "source": [
        "df_GSFC.plot(kind='scatter', x=\"A675\", y=\"A440\");"
      ]
    },
    {
      "cell_type": "markdown",
      "metadata": {
        "id": "cWpxPa9sXJNf"
      },
      "source": [
        "**Perform Calculations**\n",
        "\n",
        "We create a new column that is a combination of other columns."
      ]
    },
    {
      "cell_type": "code",
      "execution_count": null,
      "metadata": {
        "id": "KvHZ-ywfXJNf"
      },
      "outputs": [],
      "source": [
        "df_GSFC['A550'] = df_GSFC['A675']*((675.0/550.0))**df_GSFC['Alpha']"
      ]
    },
    {
      "cell_type": "code",
      "execution_count": null,
      "metadata": {
        "id": "lmmajcWLXJNf"
      },
      "outputs": [],
      "source": [
        "df_GSFC"
      ]
    },
    {
      "cell_type": "markdown",
      "metadata": {
        "id": "OnhMV990XJNi"
      },
      "source": [
        "The above is used to compare model simulation with AERONET observations."
      ]
    },
    {
      "cell_type": "markdown",
      "metadata": {
        "id": "azQi9t1LXJNi"
      },
      "source": [
        "**Zoom in on a Specific Year**"
      ]
    },
    {
      "cell_type": "code",
      "execution_count": null,
      "metadata": {
        "id": "gYcaX5mQXJNi"
      },
      "outputs": [],
      "source": [
        "df_GSFC_2010 = df_GSFC[df_GSFC.index.year == 2010]\n",
        "df_GSFC_2010"
      ]
    },
    {
      "cell_type": "code",
      "execution_count": null,
      "metadata": {
        "id": "KKQoYjejXJNj"
      },
      "outputs": [],
      "source": [
        "ax = df_GSFC_2010.plot(x=\"DoY\", y=\"A550\", color=\"green\",\n",
        "                       title=\"2010 AERONET at GSFC\")\n",
        "ax.set_xlabel(\"Day of Year\")\n",
        "ax.set_ylabel(\"Aerosol Optical Depth\")"
      ]
    },
    {
      "cell_type": "markdown",
      "metadata": {
        "id": "ocSpLiTlXJNj"
      },
      "source": [
        "## <font color=\"blue\">Weather Data</font>\n",
        "\n",
        "<center>https://www.wunderground.com/cgi-bin/findweather/getForecast?query=KDAA</center>"
      ]
    },
    {
      "cell_type": "markdown",
      "metadata": {
        "id": "PUECYzVVXJNj"
      },
      "source": [
        "#### Pandas <font color='red'>read_csv</font>"
      ]
    },
    {
      "cell_type": "code",
      "execution_count": null,
      "metadata": {
        "id": "1pn-vVhdXJNj"
      },
      "outputs": [],
      "source": [
        "url = \"https://raw.githubusercontent.com/astg606/py_materials/master/pandas/data/weather/\"\n",
        "filename = \"hampton_10-10-15_10-10-16.csv\"\n",
        "weather_data = pd.read_csv(url+filename)"
      ]
    },
    {
      "cell_type": "markdown",
      "metadata": {
        "id": "SM9T06kCXJNj"
      },
      "source": [
        "Print the data as a table:"
      ]
    },
    {
      "cell_type": "code",
      "execution_count": null,
      "metadata": {
        "id": "COVJ-xKmXJNj"
      },
      "outputs": [],
      "source": [
        "weather_data"
      ]
    },
    {
      "cell_type": "markdown",
      "metadata": {
        "id": "EXTLwE23XJNk"
      },
      "source": [
        "Print the column labels:"
      ]
    },
    {
      "cell_type": "code",
      "execution_count": null,
      "metadata": {
        "id": "17QairxQXJNk"
      },
      "outputs": [],
      "source": [
        "weather_data.columns"
      ]
    },
    {
      "cell_type": "markdown",
      "metadata": {
        "id": "RkF7IjLiXJNk"
      },
      "source": [
        "Get basic information on the data:"
      ]
    },
    {
      "cell_type": "code",
      "execution_count": null,
      "metadata": {
        "id": "M85XPw_gXJNk"
      },
      "outputs": [],
      "source": [
        "weather_data.info()"
      ]
    },
    {
      "cell_type": "markdown",
      "metadata": {
        "id": "zaz1PY0CXJNk"
      },
      "source": [
        "Print statistical information:"
      ]
    },
    {
      "cell_type": "code",
      "execution_count": null,
      "metadata": {
        "id": "KMYkMIhLXJNl"
      },
      "outputs": [],
      "source": [
        "weather_data.describe()"
      ]
    },
    {
      "cell_type": "markdown",
      "metadata": {
        "id": "G4BUtRWtXJNl"
      },
      "source": [
        "Access values of a column like in a dictionary:"
      ]
    },
    {
      "cell_type": "code",
      "execution_count": null,
      "metadata": {
        "scrolled": true,
        "id": "w81N7yqgXJNl"
      },
      "outputs": [],
      "source": [
        "weather_data[\"Max TemperatureF\"]"
      ]
    },
    {
      "cell_type": "code",
      "execution_count": null,
      "metadata": {
        "id": "muwm808bXJNl"
      },
      "outputs": [],
      "source": [
        "weather_data[\"EDT\"]"
      ]
    },
    {
      "cell_type": "markdown",
      "metadata": {
        "id": "AM1w0uR6XJNl"
      },
      "source": [
        "You can get the column index first and the values:"
      ]
    },
    {
      "cell_type": "code",
      "execution_count": null,
      "metadata": {
        "id": "rXDfOS4rXJNl"
      },
      "outputs": [],
      "source": [
        "my_col = weather_data.columns.get_loc(\"Max TemperatureF\")\n",
        "weather_data.iloc[:,my_col]"
      ]
    },
    {
      "cell_type": "markdown",
      "metadata": {
        "id": "Tmf3t1H1XJNl"
      },
      "source": [
        "You can also use the loc method:"
      ]
    },
    {
      "cell_type": "code",
      "execution_count": null,
      "metadata": {
        "id": "OGH7_wWCXJNl"
      },
      "outputs": [],
      "source": [
        "weather_data.loc[:,\"Max TemperatureF\"]"
      ]
    },
    {
      "cell_type": "markdown",
      "metadata": {
        "id": "U656kotIXJNl"
      },
      "source": [
        "Access column data like a \"method\" is nicer because you can autocomplete:"
      ]
    },
    {
      "cell_type": "code",
      "execution_count": null,
      "metadata": {
        "id": "2Sp7Mr2WXJNl"
      },
      "outputs": [],
      "source": [
        "weather_data.EDT"
      ]
    },
    {
      "cell_type": "markdown",
      "metadata": {
        "id": "_uhASQCxXJNl"
      },
      "source": [
        "You can elect multiple columns:"
      ]
    },
    {
      "cell_type": "code",
      "execution_count": null,
      "metadata": {
        "id": "yV-ARjb5XJNm"
      },
      "outputs": [],
      "source": [
        "weather_data[[\"EDT\", \"Mean TemperatureF\"]]"
      ]
    },
    {
      "cell_type": "markdown",
      "metadata": {
        "id": "w5D7AiKOXJNm"
      },
      "source": [
        "You can also pass an argument:"
      ]
    },
    {
      "cell_type": "code",
      "execution_count": null,
      "metadata": {
        "id": "G3Va0fyjXJNm"
      },
      "outputs": [],
      "source": [
        "weather_data.EDT.head()"
      ]
    },
    {
      "cell_type": "code",
      "execution_count": null,
      "metadata": {
        "id": "osc6HxyfXJNm"
      },
      "outputs": [],
      "source": [
        "weather_data[\"Mean TemperatureF\"].head()"
      ]
    },
    {
      "cell_type": "markdown",
      "metadata": {
        "id": "k81GQyMQXJNm"
      },
      "source": [
        "#### Rename columns\n",
        "\n",
        "Assign a new list of column names to the columns property of the DataFrame."
      ]
    },
    {
      "cell_type": "code",
      "execution_count": null,
      "metadata": {
        "id": "Nx3JWj5RXJNm"
      },
      "outputs": [],
      "source": [
        "weather_data.columns = [\"date\", \"max_temp\", \"mean_temp\", \"min_temp\", \"max_dew\",\n",
        "                \"mean_dew\", \"min_dew\", \"max_humidity\", \"mean_humidity\",\n",
        "                \"min_humidity\", \"max_pressure\", \"mean_pressure\",\n",
        "                \"min_pressure\", \"max_visibilty\", \"mean_visibility\",\n",
        "                \"min_visibility\", \"max_wind\", \"mean_wind\", \"min_wind\",\n",
        "                \"precipitation\", \"cloud_cover\", \"events\", \"wind_dir\"]"
      ]
    },
    {
      "cell_type": "code",
      "execution_count": null,
      "metadata": {
        "id": "awOtpwBbXJNm"
      },
      "outputs": [],
      "source": [
        "weather_data"
      ]
    },
    {
      "cell_type": "markdown",
      "metadata": {
        "id": "oyf5KDF2XJNm"
      },
      "source": [
        "Now, we can use `.` dot:"
      ]
    },
    {
      "cell_type": "code",
      "execution_count": null,
      "metadata": {
        "id": "6s7iRNLPXJNm"
      },
      "outputs": [],
      "source": [
        "weather_data.mean_temp.head()"
      ]
    },
    {
      "cell_type": "code",
      "execution_count": null,
      "metadata": {
        "id": "k9WsN8QhXJNm"
      },
      "outputs": [],
      "source": [
        "weather_data.mean_temp.std()"
      ]
    },
    {
      "cell_type": "code",
      "execution_count": null,
      "metadata": {
        "id": "ZXObPhvBXJNm"
      },
      "outputs": [],
      "source": [
        "weather_data.mean_temp.mean()"
      ]
    },
    {
      "cell_type": "markdown",
      "metadata": {
        "id": "4fz5yCThXJNn"
      },
      "source": [
        "### Visualization"
      ]
    },
    {
      "cell_type": "code",
      "execution_count": null,
      "metadata": {
        "scrolled": true,
        "id": "LA1qW9EgXJNn"
      },
      "outputs": [],
      "source": [
        "weather_data.mean_temp.plot();"
      ]
    },
    {
      "cell_type": "code",
      "execution_count": null,
      "metadata": {
        "scrolled": true,
        "id": "Ak94p4yjXJNn"
      },
      "outputs": [],
      "source": [
        "weather_data[['max_temp','min_temp']].plot(subplots=False);"
      ]
    },
    {
      "cell_type": "code",
      "execution_count": null,
      "metadata": {
        "id": "7UTJwGbMXJNn"
      },
      "outputs": [],
      "source": [
        "new_weather_data = weather_data[['max_temp','min_temp']]\n",
        "new_weather_data.plot(subplots=True);"
      ]
    },
    {
      "cell_type": "markdown",
      "metadata": {
        "id": "RGnv9EApXJNn"
      },
      "source": [
        "We can specify column labels in the loc method to retrieve columns by label instead of by position:"
      ]
    },
    {
      "cell_type": "code",
      "execution_count": null,
      "metadata": {
        "id": "TsQudFT_XJNn"
      },
      "outputs": [],
      "source": [
        "new_weather_data = weather_data.loc[50:125,['max_temp','min_temp']]\n",
        "new_weather_data.plot(subplots=True);"
      ]
    },
    {
      "cell_type": "markdown",
      "metadata": {
        "id": "qSnA_qXeXJNn"
      },
      "source": [
        "The <font color='red'>plot()</font> function returns a matplotlib <font color='red'>AxesSubPlot</font> object. You can pass this object into subsequent calls to plot() in order to compose plots."
      ]
    },
    {
      "cell_type": "code",
      "execution_count": null,
      "metadata": {
        "scrolled": true,
        "id": "9Cynj5UCXJNn"
      },
      "outputs": [],
      "source": [
        "ax = weather_data.max_temp.plot(title=\"Min and Max Temperatures\",\n",
        "                                figsize=(12,6));\n",
        "weather_data.min_temp.plot(style=\"red\", ax=ax);\n",
        "ax.set_ylabel(\"Temperature (F)\");"
      ]
    },
    {
      "cell_type": "markdown",
      "metadata": {
        "id": "y4QlgHoaXJNn"
      },
      "source": [
        "Perform scatter plot:"
      ]
    },
    {
      "cell_type": "code",
      "execution_count": null,
      "metadata": {
        "id": "0pAf1FkDXJNn"
      },
      "outputs": [],
      "source": [
        "new_weather_data.plot(kind='scatter', x='max_temp', y='min_temp');"
      ]
    },
    {
      "cell_type": "markdown",
      "metadata": {
        "id": "N1lovZUZXJNo"
      },
      "source": [
        "### <font color=\"green\"> Exercise 3</font>\n",
        "* Read the weather data so that the indices are the dates\n",
        "* Plot the max and min tempatures on the same axes with the dates (ranging from November to March) as x-axis."
      ]
    },
    {
      "cell_type": "markdown",
      "metadata": {
        "id": "e3ZQs61gXJNo"
      },
      "source": [
        "<details><summary><b><font color=\"green\">Click here to access the solution</font></b></summary>\n",
        "<p>\n",
        "\n",
        "```python\n",
        "weather_data1 = weather_data\n",
        "\n",
        "# Make the date (datetime object) as index\n",
        "weather_data1.set_index(\"date\",inplace=True)\n",
        "\n",
        "# Select the date range\n",
        "df = weather_data1[(weather_data1.index > '2015-11-01') & \\\n",
        "                   (weather_data1.index <= '2016-03-31')]\n",
        "ax = df.max_temp.plot(title=\"Min and Max Temperatures\",\n",
        "                                figsize=(12,6));\n",
        "df.min_temp.plot(style=\"red\", ax=ax);\n",
        "ax.set_ylabel(\"Temperature (F)\");\n",
        "```\n",
        "</p>\n",
        "</details>"
      ]
    },
    {
      "cell_type": "markdown",
      "metadata": {
        "id": "h-48OuiBXJNo"
      },
      "source": [
        "## <font color=\"blue\">Climate data</font>\n",
        "\n",
        "### <center>Global Surface Temperature Change based on Land and Ocean Data</center>\n",
        "\n",
        "#### Reference\n",
        "\n",
        "- [http://pubs.giss.nasa.gov/docs/2010/2010_Hansen_ha00510u.pdf](http://pubs.giss.nasa.gov/docs/2010/2010_Hansen_ha00510u.pdf)\n",
        "- [https://data.giss.nasa.gov/gistemp/graphs_v4/](https://data.giss.nasa.gov/gistemp/graphs_v4/)"
      ]
    },
    {
      "cell_type": "markdown",
      "metadata": {
        "id": "xaMZO_quXJNo"
      },
      "source": [
        "#### Pandas  <font color='red'>read_table</font>"
      ]
    },
    {
      "cell_type": "code",
      "execution_count": null,
      "metadata": {
        "id": "Y01Wms-RXJNo"
      },
      "outputs": [],
      "source": [
        "url = \"https://data.giss.nasa.gov/gistemp/graphs_v4/graph_data/Global_Mean_Estimates_based_on_Land_and_Ocean_Data/graph.txt\"\n",
        "tsurf = pd.read_table(url)\n",
        "print(type(tsurf))"
      ]
    },
    {
      "cell_type": "code",
      "execution_count": null,
      "metadata": {
        "id": "o_aD0ysNXJNo"
      },
      "outputs": [],
      "source": [
        "print(tsurf)"
      ]
    },
    {
      "cell_type": "markdown",
      "metadata": {
        "id": "mEk56fZuXJNo"
      },
      "source": [
        "There is only 1 column! Let's reformat the data noting that there is a header and values are separated by any number of spaces."
      ]
    },
    {
      "cell_type": "markdown",
      "metadata": {
        "id": "r2CtLx4yXJNo"
      },
      "source": [
        "### Data wrangling"
      ]
    },
    {
      "cell_type": "markdown",
      "metadata": {
        "id": "NYT7bqwNXJNo"
      },
      "source": [
        "> Data Wrangling is the process of converting and mapping data from its raw form to another format with the purpose of making it more valuable and appropriate for advance tasks such as Data Analytics and Machine Learning."
      ]
    },
    {
      "cell_type": "code",
      "execution_count": null,
      "metadata": {
        "scrolled": false,
        "id": "PYkrBKrNXJNo"
      },
      "outputs": [],
      "source": [
        "tsurf = pd.read_table(url, skiprows=5, sep=\"\\s+\")\n",
        "tsurf"
      ]
    },
    {
      "cell_type": "markdown",
      "metadata": {
        "id": "-YFrbczlXJNo"
      },
      "source": [
        "There are columns but the column names are: 1880, -0.20, -0.13"
      ]
    },
    {
      "cell_type": "code",
      "execution_count": null,
      "metadata": {
        "id": "5MDWKuQPXJNp"
      },
      "outputs": [],
      "source": [
        "tsurf = pd.read_table(url, skiprows=5, sep=\"\\s+\", \\\n",
        "                      names=[\"year\", \"Annual Mean\", \"Lowess Smoothing\"])\n",
        "tsurf"
      ]
    },
    {
      "cell_type": "markdown",
      "metadata": {
        "id": "y4hQjZFHXJNp"
      },
      "source": [
        "We only have 3 columns, one of which is the year of the record. Let use that as the index using the `index_col` option:"
      ]
    },
    {
      "cell_type": "code",
      "execution_count": null,
      "metadata": {
        "id": "k7xkt_-EXJNp"
      },
      "outputs": [],
      "source": [
        "tsurf = pd.read_table(url, skiprows=5, sep=\"\\s+\", \\\n",
        "                      names=[\"year\", \"Annual Mean\", \"Lowess Smoothing\"],\n",
        "                      index_col=0)\n",
        "tsurf"
      ]
    },
    {
      "cell_type": "markdown",
      "metadata": {
        "id": "4I1zq7ymXJNp"
      },
      "source": [
        "Furthermore the index is made of dates. Let's make that explicit:"
      ]
    },
    {
      "cell_type": "code",
      "execution_count": null,
      "metadata": {
        "id": "MfKKPaTrXJNp"
      },
      "outputs": [],
      "source": [
        "tsurf = pd.read_table(url, skiprows=5, sep=\"\\s+\", \\\n",
        "                      names=[\"year\", \"Annual Mean\", \"Lowess Smoothing\"],\n",
        "                      index_col=0, parse_dates=True)\n",
        "tsurf"
      ]
    },
    {
      "cell_type": "markdown",
      "metadata": {
        "id": "EWdLNK48XJNp"
      },
      "source": [
        "### Dealing with missing values"
      ]
    },
    {
      "cell_type": "code",
      "execution_count": null,
      "metadata": {
        "id": "CDs3PVIFXJNp"
      },
      "outputs": [],
      "source": [
        "#tsurf.tail()"
      ]
    },
    {
      "cell_type": "markdown",
      "metadata": {
        "id": "LIbrsclPXJNp"
      },
      "source": [
        "Convert to missing values to `NaN` values:"
      ]
    },
    {
      "cell_type": "code",
      "execution_count": null,
      "metadata": {
        "id": "eo2_sePOXJNp"
      },
      "outputs": [],
      "source": [
        "#tsurf[tsurf == -999.000] = np.nan\n",
        "tsurf.tail()"
      ]
    },
    {
      "cell_type": "markdown",
      "metadata": {
        "id": "gGSyxeUrXJNp"
      },
      "source": [
        "Remove NaN values:"
      ]
    },
    {
      "cell_type": "code",
      "execution_count": null,
      "metadata": {
        "scrolled": true,
        "id": "IDAi2L_2XJNp"
      },
      "outputs": [],
      "source": [
        "#tsurf.dropna().tail()"
      ]
    },
    {
      "cell_type": "markdown",
      "metadata": {
        "id": "I-_dgCGiXJNq"
      },
      "source": [
        "### Visualization"
      ]
    },
    {
      "cell_type": "code",
      "execution_count": null,
      "metadata": {
        "scrolled": false,
        "id": "B0TDi0nXXJNq"
      },
      "outputs": [],
      "source": [
        "tsurf.plot()"
      ]
    },
    {
      "cell_type": "code",
      "execution_count": null,
      "metadata": {
        "id": "CLujGPOkXJNq"
      },
      "outputs": [],
      "source": [
        "ax = tsurf[\"Annual Mean\"].plot(style=\"black\",\n",
        "                               title=\"Global Mean Estimates based on Land and Ocean Data\",\n",
        "                               marker='s',\n",
        "                               figsize=(12,6));\n",
        "tsurf[\"Lowess Smoothing\"].plot(style=\"red\", ax=ax);\n",
        "ax.legend()\n",
        "ax.set_ylabel(f\"Temperature Annomaly w.r.t 1951-80 (C)\");"
      ]
    },
    {
      "cell_type": "code",
      "execution_count": null,
      "metadata": {
        "id": "XCgqkzRTXJNq"
      },
      "outputs": [],
      "source": [
        "import webbrowser\n",
        "url = 'https://data.giss.nasa.gov/gistemp/graphs_v4/graph_data/Global_Mean_Estimates_based_on_Land_and_Ocean_Data/graph.html'\n",
        "webbrowser.open(url)"
      ]
    },
    {
      "cell_type": "markdown",
      "metadata": {
        "id": "fsmy2oquXJNs"
      },
      "source": [
        "## <font color=\"blue\">Arctic Oscillation and North Atlantic Oscillation  Datasets</font>\n",
        "\n",
        "- The <a href=\"https://en.wikipedia.org/wiki/Arctic_oscillation\">Arctic oscillation (AO)</a> or Northern Annular Mode/Northern Hemisphere Annular Mode (NAM) is a weather phenomenon at the Arctic poles north of 20 degrees latitude. It is an important mode of climate variability for the Northern Hemisphere.\n",
        "- The <a href=\"https://en.wikipedia.org/wiki/North_Atlantic_oscillation\">North Atlantic Oscillation (NAO)</a> is a weather phenomenon in the North Atlantic Ocean of fluctuations in the difference of atmospheric pressure at sea level (SLP) between the Icelandic Low and the Azores High."
      ]
    },
    {
      "cell_type": "code",
      "execution_count": null,
      "metadata": {
        "id": "l-alb9fIXJNs"
      },
      "outputs": [],
      "source": [
        "ao_url = \"http://www.cpc.ncep.noaa.gov/products/precip/CWlink/daily_ao_index/monthly.ao.index.b50.current.ascii\"\n",
        "nao_url = \"http://www.cpc.ncep.noaa.gov/products/precip/CWlink/pna/norm.nao.monthly.b5001.current.ascii\""
      ]
    },
    {
      "cell_type": "markdown",
      "metadata": {
        "id": "h6ms34WLXJNs"
      },
      "source": [
        "Read the North Atlantic Oscillation (NAO) data as a Pandas dataframe by combining Columns 0 & 1 and parsing it as a single date column."
      ]
    },
    {
      "cell_type": "code",
      "execution_count": null,
      "metadata": {
        "id": "XTbs-2rRXJNs"
      },
      "outputs": [],
      "source": [
        "nao_sr = pd.read_table(nao_url, sep='\\s+',\n",
        "                       parse_dates={'dates':[0, 1]},\n",
        "                       header=None, index_col=0, squeeze=True)\n",
        "nao_sr"
      ]
    },
    {
      "cell_type": "markdown",
      "metadata": {
        "id": "ahcolOsFXJNs"
      },
      "source": [
        "Read the Atlantic Oscillation (AO) data as a Pandas dataframe by combining Columns 0 & 1 and parsing it as a single date column."
      ]
    },
    {
      "cell_type": "code",
      "execution_count": null,
      "metadata": {
        "id": "VZ8qgc4AXJNs"
      },
      "outputs": [],
      "source": [
        "ao_sr = pd.read_table(ao_url, sep='\\s+',\n",
        "                      parse_dates={'dates':[0, 1]},\n",
        "                      header=None, index_col=0, squeeze=True)\n",
        "ao_sr"
      ]
    },
    {
      "cell_type": "markdown",
      "metadata": {
        "id": "kWwynDHaXJNs"
      },
      "source": [
        "Create a Pandas DataFrame by combining the two Pandas Series."
      ]
    },
    {
      "cell_type": "code",
      "execution_count": null,
      "metadata": {
        "id": "WnhlAuskXJNs"
      },
      "outputs": [],
      "source": [
        "aonao_df = pd.DataFrame(dict(AO = ao_sr, NAO = nao_sr))\n",
        "aonao_df"
      ]
    },
    {
      "cell_type": "code",
      "execution_count": null,
      "metadata": {
        "id": "Kt8caRdhXJNs"
      },
      "outputs": [],
      "source": [
        "aonao_df.NAO.plot();"
      ]
    },
    {
      "cell_type": "code",
      "execution_count": null,
      "metadata": {
        "id": "z7PYiNZHXJNs"
      },
      "outputs": [],
      "source": [
        "aonao_df.NAO['2010':'2019'].plot();"
      ]
    },
    {
      "cell_type": "code",
      "execution_count": null,
      "metadata": {
        "id": "079VLDCaXJNt"
      },
      "outputs": [],
      "source": [
        "aonao_df.NAO['2010-02':'2010-11'].plot();"
      ]
    },
    {
      "cell_type": "code",
      "execution_count": null,
      "metadata": {
        "id": "aH8SavJZXJNt"
      },
      "outputs": [],
      "source": [
        "aonao_df.plot(subplots=True);"
      ]
    },
    {
      "cell_type": "code",
      "execution_count": null,
      "metadata": {
        "id": "T5KDXInnXJNt"
      },
      "outputs": [],
      "source": [
        "aonao_df.loc[(aonao_df.AO > 0) & (aonao_df.NAO < 0)\n",
        "                               & (aonao_df.index > '2010-01')\n",
        "                               & (aonao_df.index < '2020-01'), 'NAO'].plot(kind='barh');"
      ]
    },
    {
      "cell_type": "markdown",
      "metadata": {
        "id": "ewZ-DfotXJNt"
      },
      "source": [
        "#### Adding a new column"
      ]
    },
    {
      "cell_type": "code",
      "execution_count": null,
      "metadata": {
        "id": "fXRrxZliXJNt"
      },
      "outputs": [],
      "source": [
        "aonao_df['Diff'] = aonao_df['AO']-aonao_df['NAO']\n",
        "aonao_df"
      ]
    },
    {
      "cell_type": "markdown",
      "metadata": {
        "id": "JLf3QcqiXJNt"
      },
      "source": [
        "#### Resampling\n",
        "\n",
        "- Pandas provide easy way to resample data to different time frequency.\n",
        "- Two main parameters for resampling:\n",
        "     1. Time period you resample to\n",
        "     2. The method that you use. By default the method is mean.\n",
        "     \n",
        "In the example below we calculate the annual mean (\"A\")."
      ]
    },
    {
      "cell_type": "code",
      "execution_count": null,
      "metadata": {
        "id": "NSuSdAvYXJNt"
      },
      "outputs": [],
      "source": [
        "aonao_df_mm = aonao_df.resample(\"A\").mean()\n",
        "aonao_df_mm"
      ]
    },
    {
      "cell_type": "code",
      "execution_count": null,
      "metadata": {
        "id": "ViJf_KpNXJNt"
      },
      "outputs": [],
      "source": [
        "aonao_df_mm.plot(style='g--', subplots=True);"
      ]
    },
    {
      "cell_type": "code",
      "execution_count": null,
      "metadata": {
        "id": "qTH58cCUXJNt"
      },
      "outputs": [],
      "source": [
        "aonao_df_mm = aonao_df.resample(\"A\").median()\n",
        "aonao_df_mm.plot(style='g--', subplots=True);"
      ]
    },
    {
      "cell_type": "markdown",
      "metadata": {
        "id": "iklR4jVnXJNt"
      },
      "source": [
        "You can use your methods for resampling, for example `np.max` (in this case we change resampling frequency to 3 years):"
      ]
    },
    {
      "cell_type": "code",
      "execution_count": null,
      "metadata": {
        "id": "j2lt7Am4XJNt"
      },
      "outputs": [],
      "source": [
        "aonao_df_mm = aonao_df.resample(\"3A\").apply(np.max)\n",
        "aonao_df_mm.plot(style='g--', subplots=True);"
      ]
    },
    {
      "cell_type": "markdown",
      "metadata": {
        "id": "_ptQPheqXJNt"
      },
      "source": [
        "You can specify several functions at once as a list:"
      ]
    },
    {
      "cell_type": "code",
      "execution_count": null,
      "metadata": {
        "id": "4z8gKgVcXJNu"
      },
      "outputs": [],
      "source": [
        "aonao_df_mm = aonao_df.NAO.resample(\"A\").apply(['mean', np.min, np.max])\n",
        "aonao_df_mm['1900':'2020'].plot(subplots=True);"
      ]
    },
    {
      "cell_type": "markdown",
      "metadata": {
        "id": "QPLRJVTlXJNu"
      },
      "source": [
        "#### Group By\n",
        "\n",
        "Process that involves one or more of the steps:\n",
        "\n",
        "- Splitting the data into groups based on some criteria.\n",
        "- Applying a function to each group independently.\n",
        "- Combining the results into a data structure.\n",
        "\n",
        "Group by year:"
      ]
    },
    {
      "cell_type": "code",
      "execution_count": null,
      "metadata": {
        "id": "M3XpqVAiXJNu"
      },
      "outputs": [],
      "source": [
        "aonao_df_gb_year = aonao_df.groupby(by=[aonao_df.index.year]).mean()\n",
        "aonao_df_gb_year"
      ]
    },
    {
      "cell_type": "code",
      "execution_count": null,
      "metadata": {
        "id": "RwupDqrBXJNu"
      },
      "outputs": [],
      "source": [
        "aonao_df.groupby(pd.Grouper(freq='A')).mean()"
      ]
    },
    {
      "cell_type": "code",
      "execution_count": null,
      "metadata": {
        "id": "6njBQhvfXJNu"
      },
      "outputs": [],
      "source": [
        "aonao_df_gb_year.plot()"
      ]
    },
    {
      "cell_type": "markdown",
      "metadata": {
        "id": "PyadFuDzXJNu"
      },
      "source": [
        "Group by month:"
      ]
    },
    {
      "cell_type": "code",
      "execution_count": null,
      "metadata": {
        "id": "6508Kg-7XJNu"
      },
      "outputs": [],
      "source": [
        "aonao_df_gb_month = aonao_df.groupby(by=[aonao_df.index.month]).mean()\n",
        "aonao_df_gb_month"
      ]
    },
    {
      "cell_type": "code",
      "execution_count": null,
      "metadata": {
        "id": "SxlKmcPXXJNu"
      },
      "outputs": [],
      "source": [
        "aonao_df.groupby(pd.Grouper(freq='M')).mean()"
      ]
    },
    {
      "cell_type": "code",
      "execution_count": null,
      "metadata": {
        "id": "9SPfa5v3XJNu"
      },
      "outputs": [],
      "source": [
        "aonao_df_gb_month.plot(subplots=True)"
      ]
    },
    {
      "cell_type": "markdown",
      "metadata": {
        "id": "tMCE0_XrXJNu"
      },
      "source": [
        "Quarterly Data:"
      ]
    },
    {
      "cell_type": "code",
      "execution_count": null,
      "metadata": {
        "id": "gfRxeR3CXJNu"
      },
      "outputs": [],
      "source": [
        "aonao_df.groupby(pd.Grouper(freq='Q')).mean()"
      ]
    },
    {
      "cell_type": "markdown",
      "metadata": {
        "id": "DRxLWaTKXJNu"
      },
      "source": [
        "## <font color=\"blue\">Web Scraping Sea Level Data</font>\n",
        "\n",
        "The [Permanent Service for Mean Sea Level](http://www.psmsl.org/) (PSMSL) website contains Mean Sea Level (MSL) data from stations around the world. Here we download and parse all tables in a webpage, and again we just give `read_html` the URL to parse:"
      ]
    },
    {
      "cell_type": "markdown",
      "metadata": {
        "id": "Nw3acxn_XJNv"
      },
      "source": [
        "#### Pandas  <font color='red'>read_html</font>"
      ]
    },
    {
      "cell_type": "code",
      "execution_count": null,
      "metadata": {
        "id": "b4k46A_kXJNv"
      },
      "outputs": [],
      "source": [
        "# Needs `lxml`, `beautifulSoup4` and `html5lib` python packages\n",
        "table_list = pd.read_html(\"http://www.psmsl.org/data/obtaining/\")"
      ]
    },
    {
      "cell_type": "code",
      "execution_count": null,
      "metadata": {
        "id": "miaK_0irXJNv"
      },
      "outputs": [],
      "source": [
        "type(table_list)"
      ]
    },
    {
      "cell_type": "code",
      "execution_count": null,
      "metadata": {
        "id": "qC52wV0CXJNv"
      },
      "outputs": [],
      "source": [
        "len(table_list)"
      ]
    },
    {
      "cell_type": "code",
      "execution_count": null,
      "metadata": {
        "id": "-FQBnSzuXJNv"
      },
      "outputs": [],
      "source": [
        "table_list[-1]"
      ]
    },
    {
      "cell_type": "markdown",
      "metadata": {
        "id": "N89QLUWHXJNv"
      },
      "source": [
        "There is 1 table on that page which contains metadata about the stations where sea levels are recorded:"
      ]
    },
    {
      "cell_type": "code",
      "execution_count": null,
      "metadata": {
        "id": "iF-mSEyhXJNv"
      },
      "outputs": [],
      "source": [
        "local_sea_level_stations = table_list[0]\n",
        "local_sea_level_stations"
      ]
    },
    {
      "cell_type": "markdown",
      "metadata": {
        "id": "L06dtJ_XXJNv"
      },
      "source": [
        "That table can be used to search for a station in a region of the world we choose, extract an ID for it and download the corresponding time series with the URL:\n",
        "\n",
        "```python\n",
        "http://www.psmsl.org/data/obtaining/met.monthly.data/< ID >.metdata\n",
        "```"
      ]
    },
    {
      "cell_type": "markdown",
      "metadata": {
        "id": "NXVfsAcRXJNv"
      },
      "source": [
        "The datasets that we obtain straight from the reading functions are pretty raw. A lot of pre-processing can be done during data read but we haven't used all the power of the reading functions."
      ]
    },
    {
      "cell_type": "markdown",
      "metadata": {
        "id": "NHBe98owXJNv"
      },
      "source": [
        "The columns of the local_sea_level_stations aren't clean. they contain spaces and dots."
      ]
    },
    {
      "cell_type": "code",
      "execution_count": null,
      "metadata": {
        "id": "v3HzLzVoXJNv"
      },
      "outputs": [],
      "source": [
        "local_sea_level_stations.columns"
      ]
    },
    {
      "cell_type": "markdown",
      "metadata": {
        "id": "xlCjOVMAXJNv"
      },
      "source": [
        "We can clean up by removing the `.` and any white space from column name:"
      ]
    },
    {
      "cell_type": "code",
      "execution_count": null,
      "metadata": {
        "id": "WTk97uy1XJNv"
      },
      "outputs": [],
      "source": [
        "local_sea_level_stations.columns = [name.strip().replace(\".\", \"\")\n",
        "                                    for name in local_sea_level_stations.columns]\n",
        "local_sea_level_stations.columns"
      ]
    },
    {
      "cell_type": "code",
      "execution_count": null,
      "metadata": {
        "id": "jdg_noCDXJNw"
      },
      "outputs": [],
      "source": [
        "local_sea_level_stations.columns = [name.strip().replace(\" \", \"_\")\n",
        "                                    for name in local_sea_level_stations.columns]\n",
        "local_sea_level_stations.columns"
      ]
    },
    {
      "cell_type": "markdown",
      "metadata": {
        "id": "h9C5-1H0XJNw"
      },
      "source": [
        "Let us only consider the latitude, longitude, country and date:"
      ]
    },
    {
      "cell_type": "code",
      "execution_count": null,
      "metadata": {
        "id": "umK5bS-FXJNw"
      },
      "outputs": [],
      "source": [
        "selected_columns = ['ID', 'Lat', 'Lon', 'Country', 'Date']\n",
        "msl_data = local_sea_level_stations[selected_columns]\n",
        "msl_data"
      ]
    },
    {
      "cell_type": "markdown",
      "metadata": {
        "id": "jtYOdUBGXJNw"
      },
      "source": [
        "We can now plot locations of the stations on a map:"
      ]
    },
    {
      "cell_type": "code",
      "execution_count": null,
      "metadata": {
        "id": "IdD06YUtXJNw"
      },
      "outputs": [],
      "source": [
        "%matplotlib inline\n",
        "import matplotlib.pyplot as plt\n",
        "import cartopy\n",
        "import cartopy.crs as ccrs\n",
        "import cartopy.feature as cfeature\n",
        "\n",
        "fig = plt.figure(figsize=(12, 9))\n",
        "map_projection = ccrs.PlateCarree()\n",
        "data_transform = ccrs.PlateCarree()\n",
        "\n",
        "ax = plt.axes(projection=map_projection)\n",
        "ax.stock_img()\n",
        "\n",
        "# Plot the selected location\n",
        "plt.plot(msl_data.Lon, msl_data.Lat, 'r*',\n",
        "         transform=data_transform, color=\"purple\", markersize=2)\n",
        "\n",
        "ax.set(title=\"Location of the Lat/Lon of MSL stations\")"
      ]
    },
    {
      "cell_type": "markdown",
      "metadata": {
        "id": "phS_bFunXJNw"
      },
      "source": [
        "Change the `Date` as datetime object and move it as index:"
      ]
    },
    {
      "cell_type": "code",
      "execution_count": null,
      "metadata": {
        "id": "Vc-39qzGXJNw"
      },
      "outputs": [],
      "source": [
        "msl_data['Date'] = pd.to_datetime(msl_data.Date, format=\"%d/%m/%Y\")\n",
        "msl_data = msl_data.set_index(['Date'])\n",
        "msl_data"
      ]
    },
    {
      "cell_type": "markdown",
      "metadata": {
        "id": "pC2oaDlWXJNw"
      },
      "source": [
        "We can now group the measurements by country:"
      ]
    },
    {
      "cell_type": "code",
      "execution_count": null,
      "metadata": {
        "id": "IIaloHoTXJNw"
      },
      "outputs": [],
      "source": [
        "grp_msl_data = msl_data.groupby(\"Country\")\n",
        "grp_msl_data"
      ]
    },
    {
      "cell_type": "code",
      "execution_count": null,
      "metadata": {
        "id": "iyyx7CZSXJNw"
      },
      "outputs": [],
      "source": [
        "num_stations = 0\n",
        "for key, item in grp_msl_data:\n",
        "    print(\"Country: {} -- {:>4} Stations\".format(key, len(item)))\n",
        "    num_stations += len(item)\n",
        "    #print(\"{}\".format(item))\n",
        "    #print()\n",
        "\n",
        "print(\"{} stations in total.\".format(num_stations))"
      ]
    },
    {
      "cell_type": "markdown",
      "metadata": {
        "id": "cfTgtXmpXJNx"
      },
      "source": [
        "Select data for USA:"
      ]
    },
    {
      "cell_type": "code",
      "execution_count": null,
      "metadata": {
        "id": "heC9Eug0XJNx"
      },
      "outputs": [],
      "source": [
        "msl_usa = grp_msl_data.get_group('USA')\n",
        "msl_usa"
      ]
    },
    {
      "cell_type": "code",
      "execution_count": null,
      "metadata": {
        "id": "d5_sjL-mXJNx"
      },
      "outputs": [],
      "source": [
        "stationID = msl_usa.ID[-1]"
      ]
    },
    {
      "cell_type": "code",
      "execution_count": null,
      "metadata": {
        "id": "ppm_LzOIXJNx"
      },
      "outputs": [],
      "source": [
        "from datetime import datetime, timedelta\n",
        "\n",
        "def convert_to_datetime(year_dec):\n",
        "    year_int = int(float(year_dec))\n",
        "    base = datetime(year_int, 1, 1)\n",
        "    rem = float(year_dec) - year_int\n",
        "    result = base + \\\n",
        "             timedelta(seconds=(base.replace(year=base.year + 1) - base).total_seconds() * rem)\n",
        "    #print(result.strftime(\"%Y-%m-%d\"))\n",
        "    return result\n",
        "\n",
        "x = 1985.2917\n",
        "convert_to_datetime(x).strftime(\"%Y-%m-%d\")"
      ]
    },
    {
      "cell_type": "code",
      "execution_count": null,
      "metadata": {
        "id": "yU4zjBcgXJNx"
      },
      "outputs": [],
      "source": [
        "url = f\"https://www.psmsl.org/data/obtaining/met.monthly.data/{stationID}.rlrdata\"\n",
        "print(url)\n",
        "monthly_data = pd.read_csv(url, sep=\";\",\n",
        "                           names=[\"monthly_mean_sl\"],\n",
        "                          parse_dates={'Dates': [0]},\n",
        "                          date_parser=convert_to_datetime,\n",
        "                           infer_datetime_format=True,\n",
        "                          na_values=-99999, header=None,\n",
        "                          index_col=0, squeeze=True)\n",
        "\n",
        "annual_data"
      ]
    },
    {
      "cell_type": "code",
      "execution_count": null,
      "metadata": {
        "id": "6phNegbSXJNx"
      },
      "outputs": [],
      "source": []
    },
    {
      "cell_type": "markdown",
      "metadata": {
        "id": "KwIZ0h2mXJNx"
      },
      "source": [
        "##  <font color=\"blue\">Global Temperature Climatology</font>"
      ]
    },
    {
      "cell_type": "markdown",
      "metadata": {
        "id": "ESGi9N9RXJNx"
      },
      "source": [
        "Let's load a different file with temperature data. NASA's GISS dataset is written in chunks: look at it in `data/temperatures/GLB.Ts+dSST.txt`"
      ]
    },
    {
      "cell_type": "code",
      "execution_count": null,
      "metadata": {
        "id": "Pfz0e8XAXJNy"
      },
      "outputs": [],
      "source": [
        "#!head data/temperatures/GLB.Ts+dSST.txt"
      ]
    },
    {
      "cell_type": "code",
      "execution_count": null,
      "metadata": {
        "scrolled": true,
        "id": "INztlM2fXJNy"
      },
      "outputs": [],
      "source": [
        "url = \"https://raw.githubusercontent.com/astg606/py_materials/master/pandas/data/temperatures/\"\n",
        "\n",
        "giss_temp = pd.read_csv(url+\"GLB.Ts+dSST.txt\",\n",
        "                        skiprows=7,\n",
        "                        skipfooter=11,\n",
        "                        sep=\"\\s+\")\n",
        "print(type(giss_temp))\n",
        "giss_temp"
      ]
    },
    {
      "cell_type": "code",
      "execution_count": null,
      "metadata": {
        "id": "DW1pIsPEXJNy"
      },
      "outputs": [],
      "source": [
        "# Internal nature of the object\n",
        "print(giss_temp.shape)\n",
        "print(giss_temp.dtypes)"
      ]
    },
    {
      "cell_type": "markdown",
      "metadata": {
        "id": "iL6tfUEAXJNy"
      },
      "source": [
        "Descriptors for the vertical axis (axis=0)"
      ]
    },
    {
      "cell_type": "code",
      "execution_count": null,
      "metadata": {
        "id": "DBvTvOrHXJNy"
      },
      "outputs": [],
      "source": [
        "print(giss_temp.index)"
      ]
    },
    {
      "cell_type": "markdown",
      "metadata": {
        "id": "doII-oVlXJNy"
      },
      "source": [
        "Descriptors for the horizontal axis (axis=1)"
      ]
    },
    {
      "cell_type": "code",
      "execution_count": null,
      "metadata": {
        "id": "MDuavCXNXJNy"
      },
      "outputs": [],
      "source": [
        "giss_temp.columns"
      ]
    },
    {
      "cell_type": "markdown",
      "metadata": {
        "id": "3hby9ZOQXJNz"
      },
      "source": [
        "#### Recall: every column is a Series"
      ]
    },
    {
      "cell_type": "markdown",
      "metadata": {
        "id": "HDWicH9_XJNz"
      },
      "source": [
        "A lot of information at once including memory usage:"
      ]
    },
    {
      "cell_type": "code",
      "execution_count": null,
      "metadata": {
        "id": "y7_wmOKpXJNz"
      },
      "outputs": [],
      "source": [
        "giss_temp.info()"
      ]
    },
    {
      "cell_type": "markdown",
      "metadata": {
        "id": "twAGRJPpXJNz"
      },
      "source": [
        "### Setting the index"
      ]
    },
    {
      "cell_type": "code",
      "execution_count": null,
      "metadata": {
        "id": "jwdtGSXKXJNz"
      },
      "outputs": [],
      "source": [
        "# We didn't set a column number of the index of giss_temp,\n",
        "# we can do that after we have read the data:\n",
        "giss_temp = giss_temp.set_index(\"Year\")\n",
        "giss_temp.head()"
      ]
    },
    {
      "cell_type": "markdown",
      "metadata": {
        "id": "_Av4mWXBXJNz"
      },
      "source": [
        "Note Year.1 column is redundant"
      ]
    },
    {
      "cell_type": "markdown",
      "metadata": {
        "id": "oHJqsddxXJNz"
      },
      "source": [
        "### Dropping rows and columns"
      ]
    },
    {
      "cell_type": "code",
      "execution_count": null,
      "metadata": {
        "id": "L-tMgwvOXJN0"
      },
      "outputs": [],
      "source": [
        "giss_temp.columns"
      ]
    },
    {
      "cell_type": "code",
      "execution_count": null,
      "metadata": {
        "id": "qFEe_gnIXJN1"
      },
      "outputs": [],
      "source": [
        "# Let's drop it:\n",
        "giss_temp = giss_temp.drop(\"Year.1\", axis=1) # axis=1 is the data axis\n",
        "giss_temp"
      ]
    },
    {
      "cell_type": "code",
      "execution_count": null,
      "metadata": {
        "id": "0k_6wdbDXJN1"
      },
      "outputs": [],
      "source": [
        "# We can also just select the columns we want to keep\n",
        "# (another way to drop columns)\n",
        "giss_temp = giss_temp[[u'Jan', u'Feb', u'Mar', u'Apr',\n",
        "                       u'May', u'Jun', u'Jul', u'Aug',\n",
        "                       u'Sep', u'Oct', u'Nov', u'Dec']]\n",
        "# Note how we passed a List of column names\n",
        "\n",
        "giss_temp"
      ]
    },
    {
      "cell_type": "code",
      "execution_count": null,
      "metadata": {
        "id": "82CUJ9Q6XJN1"
      },
      "outputs": [],
      "source": [
        "# Let's remove the last row (Year  Jan ...).\n",
        "giss_temp = giss_temp.drop(\"Year\")  # by  default drop() works on index axis (axis=0)\n",
        "giss_temp"
      ]
    },
    {
      "cell_type": "markdown",
      "metadata": {
        "id": "IyRU-cI-XJN2"
      },
      "source": [
        "Let's also set `****` to a real missing value (`np.nan`). We can often do it using a boolean mask, but that may trigger pandas warning. Another way to assign based on a boolean condition is to use the `where` method:"
      ]
    },
    {
      "cell_type": "code",
      "execution_count": null,
      "metadata": {
        "id": "FFlljXc9XJN2"
      },
      "outputs": [],
      "source": [
        "#giss_temp[giss_temp == \"****\"] = np.nan # WARNING due to memory layout\n",
        "\n",
        "# use .where: replace the entries which do not satistfy the condition\n",
        "giss_temp = giss_temp.where(giss_temp != \"****\", other=np.nan)"
      ]
    },
    {
      "cell_type": "code",
      "execution_count": null,
      "metadata": {
        "id": "ikXL5C_GXJN2"
      },
      "outputs": [],
      "source": [
        "giss_temp.tail()"
      ]
    },
    {
      "cell_type": "markdown",
      "metadata": {
        "id": "WGXctbFUXJN2"
      },
      "source": [
        "Because of the labels (strings) found in the middle of the timeseries, every column only assumed to contain strings (didn't convert them to floating point values):"
      ]
    },
    {
      "cell_type": "code",
      "execution_count": null,
      "metadata": {
        "id": "PxZD_BgnXJN2"
      },
      "outputs": [],
      "source": [
        "giss_temp.dtypes"
      ]
    },
    {
      "cell_type": "markdown",
      "metadata": {
        "id": "ca6hf7O0XJN2"
      },
      "source": [
        "That can be changed after the fact (and after the cleanup) with the `astype` method of a `Series`:"
      ]
    },
    {
      "cell_type": "code",
      "execution_count": null,
      "metadata": {
        "id": "vei9W7y3XJN2"
      },
      "outputs": [],
      "source": [
        "giss_temp[\"Jan\"].astype(\"float32\")"
      ]
    },
    {
      "cell_type": "code",
      "execution_count": null,
      "metadata": {
        "id": "xrUO74HLXJN2"
      },
      "outputs": [],
      "source": [
        "# Loop over all columns that had 'Object' type and make them 'float32'\n",
        "for col in giss_temp.columns:\n",
        "    giss_temp[col] = giss_temp[col].astype(np.float32)"
      ]
    },
    {
      "cell_type": "markdown",
      "metadata": {
        "id": "ulJCZwStXJN2"
      },
      "source": [
        "An index has a `dtype` just like any Series and that can be changed after the fact too."
      ]
    },
    {
      "cell_type": "code",
      "execution_count": null,
      "metadata": {
        "id": "vNbdvRDrXJN2"
      },
      "outputs": [],
      "source": [
        "giss_temp.index.dtype"
      ]
    },
    {
      "cell_type": "markdown",
      "metadata": {
        "id": "dejO7PDXXJN3"
      },
      "source": [
        "For now, let's change it to an integer so that values can at least be compared properly."
      ]
    },
    {
      "cell_type": "code",
      "execution_count": null,
      "metadata": {
        "id": "qPb1J_KnXJN3"
      },
      "outputs": [],
      "source": [
        "giss_temp.index = giss_temp.index.astype(np.int32)"
      ]
    },
    {
      "cell_type": "markdown",
      "metadata": {
        "id": "ZYtzCa7HXJN3"
      },
      "source": [
        "### Removing missing values"
      ]
    },
    {
      "cell_type": "code",
      "execution_count": null,
      "metadata": {
        "id": "wvCwtcQBXJN3"
      },
      "outputs": [],
      "source": [
        "# This will remove any year that has a missing value.\n",
        "# Use how='all' to keep partial years\n",
        "giss_temp.dropna(how=\"all\").tail()"
      ]
    },
    {
      "cell_type": "code",
      "execution_count": null,
      "metadata": {
        "id": "lL3nWOp4XJN3"
      },
      "outputs": [],
      "source": [
        "# Replace (fill) NaN with 0 (or some other value, like -999)\n",
        "giss_temp.fillna(value=0).tail()"
      ]
    },
    {
      "cell_type": "code",
      "execution_count": null,
      "metadata": {
        "id": "0kPcWCViXJN3"
      },
      "outputs": [],
      "source": [
        "# ffill = forward fill: This fills them with the previous year.\n",
        "giss_temp.fillna(method=\"ffill\").tail()"
      ]
    },
    {
      "cell_type": "markdown",
      "metadata": {
        "id": "O1LprdFAXJN3"
      },
      "source": [
        "There is also a `.interpolate` method that works on a `Series`:"
      ]
    },
    {
      "cell_type": "code",
      "execution_count": null,
      "metadata": {
        "id": "i9ZGNoy5XJN4"
      },
      "outputs": [],
      "source": [
        "giss_temp.Aug.interpolate().tail()"
      ]
    },
    {
      "cell_type": "markdown",
      "metadata": {
        "id": "ns38nS7CXJN4"
      },
      "source": [
        "For now, we will leave the missing values in all our datasets, because it wouldn't be meaningful to fill them."
      ]
    },
    {
      "cell_type": "markdown",
      "metadata": {
        "id": "FFJ4oUj1XJN4"
      },
      "source": [
        "### Visualization"
      ]
    },
    {
      "cell_type": "code",
      "execution_count": null,
      "metadata": {
        "id": "5hjaWqIxXJN4"
      },
      "outputs": [],
      "source": [
        "giss_temp.Jan.plot(figsize=LARGE_FIGSIZE);"
      ]
    },
    {
      "cell_type": "code",
      "execution_count": null,
      "metadata": {
        "id": "_H6tRO5PXJN4"
      },
      "outputs": [],
      "source": [
        "# A boxplot\n",
        "giss_temp.boxplot();"
      ]
    },
    {
      "cell_type": "markdown",
      "metadata": {
        "id": "BBK0jboHXJN5"
      },
      "source": [
        "## <font color=\"purple\">Going Deeper: Storing our Work</font>"
      ]
    },
    {
      "cell_type": "markdown",
      "metadata": {
        "id": "wqvS_ESyXJN5"
      },
      "source": [
        "For each `read_**` function to load data, there is a `to_**` method attached to Series and DataFrames."
      ]
    },
    {
      "cell_type": "markdown",
      "metadata": {
        "id": "yTOD9aIMXJN5"
      },
      "source": [
        "Another file format that is commonly used is Excel.\n",
        "\n",
        "Multiple datasets can be stored in 1 file."
      ]
    },
    {
      "cell_type": "code",
      "execution_count": null,
      "metadata": {
        "id": "NkM9dd3uXJN5"
      },
      "outputs": [],
      "source": [
        "writer = pd.ExcelWriter(\"test.xls\")"
      ]
    },
    {
      "cell_type": "code",
      "execution_count": null,
      "metadata": {
        "id": "MJZTrdv7XJN5"
      },
      "outputs": [],
      "source": [
        "giss_temp.to_excel(writer, sheet_name=\"GISS temp data\")\n",
        "tsurf.to_excel(writer, sheet_name=\"NASA sst anom data\")"
      ]
    },
    {
      "cell_type": "code",
      "execution_count": null,
      "metadata": {
        "id": "y9Ja3pDUXJN5"
      },
      "outputs": [],
      "source": [
        "writer.close()"
      ]
    },
    {
      "cell_type": "markdown",
      "metadata": {
        "id": "HDqkKiTMXJN6"
      },
      "source": [
        "Another, more powerful file format to store binary data, which allows us to store both `Series` and `DataFrame`s without having to cast anybody is HDF5."
      ]
    },
    {
      "cell_type": "code",
      "execution_count": null,
      "metadata": {
        "id": "xxNGqDuQXJN6"
      },
      "outputs": [],
      "source": [
        "with pd.HDFStore(\"all_data.h5\") as writer:\n",
        "    giss_temp.to_hdf(writer, \"/temperatures/giss\")\n",
        "    tsurf.to_hdf(writer, \"/temperatures/anomalies\")\n",
        "    mean_sea_level.to_hdf(writer, \"/sea_level/mean_sea_level\")\n",
        "    local_sea_level_stations.to_hdf(writer, \"/sea_level/stations\")"
      ]
    },
    {
      "cell_type": "code",
      "execution_count": null,
      "metadata": {
        "id": "Y7kShs6NXJN6"
      },
      "outputs": [],
      "source": [
        "%ls"
      ]
    }
  ],
  "metadata": {
    "anaconda-cloud": {},
    "kernelspec": {
      "display_name": "Python 3 (ipykernel)",
      "language": "python",
      "name": "python3"
    },
    "language_info": {
      "codemirror_mode": {
        "name": "ipython",
        "version": 3
      },
      "file_extension": ".py",
      "mimetype": "text/x-python",
      "name": "python",
      "nbconvert_exporter": "python",
      "pygments_lexer": "ipython3",
      "version": "3.8.2"
    },
    "colab": {
      "provenance": []
    }
  },
  "nbformat": 4,
  "nbformat_minor": 0
}