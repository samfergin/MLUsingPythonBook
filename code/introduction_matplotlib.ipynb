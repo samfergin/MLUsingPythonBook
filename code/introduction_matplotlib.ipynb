{
  "cells": [
    {
      "cell_type": "markdown",
      "metadata": {
        "id": "heLSABc9XGWH"
      },
      "source": [
        "<font color=\"white\">.</font> | <font color=\"white\">.</font> | <font color=\"white\">.</font>\n",
        "-- | -- | --\n",
        "![NASA](http://www.nasa.gov/sites/all/themes/custom/nasatwo/images/nasa-logo.svg) | <h1><font size=\"+3\">ASTG Python Courses</font></h1> | ![NASA](https://www.nccs.nasa.gov/sites/default/files/NCCS_Logo_0.png)\n",
        "\n",
        "---\n",
        "\n",
        "<CENTER>\n",
        "<H1 style=\"color:red\">\n",
        "Introduction to Matplotlib\n",
        "</H1>\n",
        "</CENTER>"
      ]
    },
    {
      "cell_type": "markdown",
      "metadata": {
        "id": "vI9TK6mzXGWO"
      },
      "source": [
        "## Reference Documents\n",
        "\n",
        "- <A HREF=\"https://realpython.com/python-matplotlib-guide/\">Python Plotting With Matplotlib (Guide)</A>\n",
        "- <A HREF=\"http://scipy-lectures.github.io/intro/matplotlib/matplotlib.html\">Matplotlib: Plotting</A>\n",
        "- <A HREF=\"http://www.labri.fr/perso/nrougier/teaching/matplotlib/\">Matplotlib Tutorial</A>\n",
        "- <A HREF=\"http://matplotlib.sourceforge.net/gallery.html\">Image Gallery</A>\n",
        "- <A HREF=\"http://people.duke.edu/~ccc14/pcfb/numerics.html\">NumPy and Matplotlib (Practical Cumputing for Biologists)</A>\n",
        "- <A HREF=\"http://videolectures.net/mloss08_hunter_mat\">Video Presentation</A>"
      ]
    },
    {
      "cell_type": "markdown",
      "metadata": {
        "id": "wZC94BUfXGWP"
      },
      "source": [
        "## What is Matplotlib?"
      ]
    },
    {
      "cell_type": "markdown",
      "metadata": {
        "id": "WpvWGlmsXGWQ"
      },
      "source": [
        "<UL>\n",
        "<LI> Library for making 2D plots of arrays in Python\n",
        "<LI> Makes heavy use of Numpy and other extension code to provide good performance\n",
        "<LI> Can be used to create plots with few commands\n",
        "</UL>\n",
        "<P>\n",
        "With Matplotlib, we can generate plots, histograms, power spectra, bar charts,\n",
        "   error charts, scatter plots, etc., with just a few lines of code."
      ]
    },
    {
      "cell_type": "markdown",
      "metadata": {
        "id": "3KaP3_riXGWR"
      },
      "source": [
        "### Basic Sythax for Plotting"
      ]
    },
    {
      "cell_type": "code",
      "execution_count": null,
      "metadata": {
        "id": "8KFbL-_dXGWR"
      },
      "outputs": [],
      "source": [
        "%matplotlib inline\n",
        "\n",
        "import numpy as np\n",
        "import matplotlib.pyplot as plt\n",
        "import matplotlib.cm as cm"
      ]
    },
    {
      "cell_type": "markdown",
      "metadata": {
        "id": "uTfFNhfyXGWS"
      },
      "source": [
        "### Basic Sythax for Plotting"
      ]
    },
    {
      "cell_type": "markdown",
      "metadata": {
        "id": "d4lrNzMUXGWT"
      },
      "source": [
        "| Syntax  | Meaning |\n",
        "| -- | -- |\n",
        "| x = [...]       | define the points on the x-axis |\n",
        "| y = [...]       | define the points on the y-axis |\n",
        "|  |   \n",
        "| plt.plot(x,y) | |\n",
        "| plt.show()      |  display the plot on the screen |"
      ]
    },
    {
      "cell_type": "markdown",
      "metadata": {
        "id": "FC7nmFgDXGWV"
      },
      "source": [
        "### Setting the Plot Style"
      ]
    },
    {
      "cell_type": "code",
      "execution_count": null,
      "metadata": {
        "id": "BvH_5EEoXGWW"
      },
      "outputs": [],
      "source": [
        "# Get the list of available styles\n",
        "plt.style.available"
      ]
    },
    {
      "cell_type": "code",
      "execution_count": null,
      "metadata": {
        "id": "vlHyvRvbXGWW"
      },
      "outputs": [],
      "source": [
        "# Select you desired style\n",
        "# You do not have to do this setting.\n",
        "# The default style is 'classic'\n",
        "plt.style.use('classic')"
      ]
    },
    {
      "cell_type": "code",
      "execution_count": null,
      "metadata": {
        "id": "tdkIjK9BXGWX"
      },
      "outputs": [],
      "source": [
        "# In case you want the xkcd style,\n",
        "# uncomment the line below.\n",
        "# plt.xkcd()"
      ]
    },
    {
      "cell_type": "markdown",
      "metadata": {
        "id": "CuT7jCq1XGWX"
      },
      "source": [
        "### Simple Plot"
      ]
    },
    {
      "cell_type": "code",
      "execution_count": null,
      "metadata": {
        "id": "xjHhru2yXGWX"
      },
      "outputs": [],
      "source": [
        "x = [2, 3, 5, 7, 11]\n",
        "y = [4, 9, 5, 9, 1]\n",
        "plt.plot(x, y, '-', color='b', label='simple')\n",
        "plt.xlabel('x')\n",
        "plt.legend(loc='center')\n",
        "plt.title('Simple Plot')"
      ]
    },
    {
      "cell_type": "markdown",
      "metadata": {
        "id": "-tYKIzX5XGWX"
      },
      "source": [
        "### Line Styles"
      ]
    },
    {
      "cell_type": "code",
      "execution_count": null,
      "metadata": {
        "id": "AvvpngFWXGWY"
      },
      "outputs": [],
      "source": [
        "from matplotlib import lines\n",
        "lines.lineStyles.keys()"
      ]
    },
    {
      "cell_type": "markdown",
      "metadata": {
        "id": "fajpkhnQXGWY"
      },
      "source": [
        "### List of Line Colors\n",
        "| Character | Color |\n",
        "| -- | -- |\n",
        "| 'b' | blue |\n",
        "| 'g' | green |\n",
        "| 'r' | red |\n",
        "| 'c' | cyan |\n",
        "| 'm' | magenta |\n",
        "| 'y' | yellow |\n",
        "| 'k' | black |\n",
        "| 'w' | white |"
      ]
    },
    {
      "cell_type": "markdown",
      "metadata": {
        "id": "7ZGivBULXGWY"
      },
      "source": [
        "### Useful Syntax"
      ]
    },
    {
      "cell_type": "markdown",
      "metadata": {
        "id": "7mBy4mffXGWY"
      },
      "source": [
        "| Command  | Meaning |\n",
        "|  -- |  -- |\n",
        "| plt.plot(x,y)| |\n",
        "| plt.xlabel('string')         |  label the x-axis|\n",
        "| plt.ylabel('string')         |  label the y-axis|\n",
        "| plt.title('string')          |  write the title of the plot|\n",
        "| plt.grid(true/false)         |  adds grid boxes|\n",
        "| plt.savefig('fileName.type') |  type can be png, ps, pdf, etc|\n",
        "| plt.show()                   |  display the graph on the screen|\n",
        "| plt.xlim(xmin,xmax)          |  set/get the xlimits |\n",
        "| plt.ylim(ymin,ymax)          |  set/get the ylimits |\n",
        "| plt.hold(True/False)         |  to overlay figures on the same graph |"
      ]
    },
    {
      "cell_type": "markdown",
      "metadata": {
        "id": "c7dJmNuBXGWY"
      },
      "source": [
        "### The Matplotlib Object Hierarchy\n",
        "\n",
        "- When we issue the call `plt.plot(x, y)`, we internally creates a hierarchy of nested Python objects: **Figure** and **Axes**.\n",
        "- A **Figure** object is the outermost container for a matplotlib graphic, which can contain multiple **Axes** objects.\n",
        "- An **Axes** actually translates into what we think of as an individual plot or graph (rather than the plural of “axis,” as we might expect).\n",
        "- Below the Axes in the hierarchy are smaller objects such as tick marks, individual lines, legends, and text boxes. Almost every “element” of a chart is its own manipulable Python object, all the way down to the ticks and labels\n",
        "\n",
        "![FIG_AXES](https://files.realpython.com/media/fig_map.bc8c7cabd823.png)\n",
        "\n",
        "Below is a figure anatomy of the Matplotlib object hierarchy:\n",
        "\n",
        "![Anatomy](https://files.realpython.com/media/anatomy.7d033ebbfbc8.png)\n"
      ]
    },
    {
      "cell_type": "markdown",
      "metadata": {
        "id": "CqFrRzxoXGWZ"
      },
      "source": [
        "### Simple Cosine Plot"
      ]
    },
    {
      "cell_type": "code",
      "execution_count": null,
      "metadata": {
        "id": "cKoeTEXzXGWZ"
      },
      "outputs": [],
      "source": [
        "t = np.arange(0.0, 1.0+0.01, 0.01)\n",
        "s = np.cos(2*2*np.pi*t)\n",
        "plt.plot(t, s)\n",
        "\n",
        "plt.xlabel('time (s)')\n",
        "plt.ylabel('voltage (mV)')\n",
        "plt.title('About as simple as it gets, folks')\n",
        "plt.grid(True)"
      ]
    },
    {
      "cell_type": "markdown",
      "metadata": {
        "id": "acyrX95kXGWZ"
      },
      "source": [
        "### Adding Ticks - Changing Colors and Line Widths - Setting Limits"
      ]
    },
    {
      "cell_type": "code",
      "execution_count": null,
      "metadata": {
        "id": "TjZSqPVaXGWZ"
      },
      "outputs": [],
      "source": [
        "X = np.linspace(-np.pi, np.pi, 256,endpoint=True)\n",
        "C = np.cos(X)\n",
        "S = np.sin(X)\n",
        "\n",
        "# Plot cosine using blue color with a continuous line of width 1 (pixels)\n",
        "plt.plot(X, C, color=\"blue\", linewidth=1.0, linestyle=\"-\")\n",
        "\n",
        "# Plot sine using green color with a continuous line of width 1 (pixels)\n",
        "plt.plot(X, S, color=\"green\", linewidth=1.0, linestyle=\"-\")\n",
        "\n",
        "# Set x limits\n",
        "plt.xlim(-4.0,4.0)\n",
        "\n",
        "# Set x ticks\n",
        "plt.xticks(np.linspace(-4,4,5,endpoint=True))\n",
        "\n",
        "# Set y limits\n",
        "plt.ylim(-1.05,1.05)\n",
        "\n",
        "# Set y ticks\n",
        "plt.yticks(np.linspace(-1,1,5,endpoint=True))"
      ]
    },
    {
      "cell_type": "markdown",
      "metadata": {
        "id": "uPOeRxUQXGWa"
      },
      "source": [
        "### Moving Spines\n",
        "\n",
        "- Spines are the lines connecting the axis tick marks and noting the boundaries of the data area\n",
        "- They can be placed at arbitrary positions, especially on the border of the axis.\n",
        "- There are four of them: top, bottom, left and right\n",
        "- We want to have them in the middle of the plot."
      ]
    },
    {
      "cell_type": "code",
      "execution_count": null,
      "metadata": {
        "id": "QvcTDGJcXGWa"
      },
      "outputs": [],
      "source": [
        "X = np.linspace(-np.pi, np.pi, 256,endpoint=True)\n",
        "\n",
        "C = np.cos(X)\n",
        "S = np.sin(X)\n",
        "\n",
        "fig = plt.figure()\n",
        "ax = fig.add_subplot(111)\n",
        "\n",
        "# Plot cosine using blue color with a continuous line of width 1 (pixels)\n",
        "ax.plot(X, C, color=\"blue\", linewidth=1.0, linestyle=\"-\")\n",
        "\n",
        "# Plot sine using green color with a continuous line of width 1 (pixels)\n",
        "ax.plot(X, S, color=\"green\", linewidth=1.0, linestyle=\"-\")\n",
        "\n",
        "# Set x limits\n",
        "ax.set_xlim(-4.0,4.0)\n",
        "\n",
        "# Set x ticks\n",
        "ax.set_xticks(np.linspace(-4,4,9,endpoint=True))\n",
        "\n",
        "# Set y limits\n",
        "ax.set_ylim(-1.05,1.05)\n",
        "\n",
        "# Set y ticks\n",
        "ax.set_yticks(np.linspace(-1,1,5,endpoint=True))\n",
        "\n",
        "# Move left y-axis and bottom x-axis to centre, passing through (0,0)\n",
        "ax.spines['left'].set_position('center')     # we want the left spline to be centered\n",
        "ax.spines['bottom'].set_position('center')   # we want the bottom spline to be centered\n",
        "\n",
        "# Eliminate upper and right axes\n",
        "ax.spines['right'].set_color('none')\n",
        "ax.spines['top'].set_color('none')\n",
        "\n",
        "# Show ticks on the left and lower axes only\n",
        "ax.xaxis.set_ticks_position('bottom')\n",
        "ax.yaxis.set_ticks_position('left')"
      ]
    },
    {
      "cell_type": "markdown",
      "metadata": {
        "id": "ZLWi9_2aXGWa"
      },
      "source": [
        "### Multiple Figures on the Same Plot"
      ]
    },
    {
      "cell_type": "code",
      "execution_count": null,
      "metadata": {
        "id": "RoV8Wwk1XGWa"
      },
      "outputs": [],
      "source": [
        "def f(t):\n",
        "    return np.exp(-t) * np.cos(2*np.pi*t)\n",
        "\n",
        "t1 = np.arange(0.0, 5.0, 0.1)\n",
        "t2 = np.arange(0.0, 5.0, 0.02)\n",
        "\n",
        "plt.figure(1)\n",
        "plt.subplot(2,1,2)\n",
        "plt.plot(t1, f(t1), 'bo', t2, f(t2), 'k')\n",
        "\n",
        "plt.subplot(2,1,1)\n",
        "plt.plot(t2, np.cos(2*np.pi*t2), 'r--')"
      ]
    },
    {
      "cell_type": "markdown",
      "metadata": {
        "id": "LL9L37jDXGWa"
      },
      "source": [
        "### Add Legend"
      ]
    },
    {
      "cell_type": "code",
      "execution_count": null,
      "metadata": {
        "id": "o_l3Mh8GXGWa"
      },
      "outputs": [],
      "source": [
        "x = np.linspace(0, 2*np.pi, 300)\n",
        "y = np.sin(x)\n",
        "y2 = np.sin(x**2)\n",
        "plt.plot(x, y, label=r'$\\sin(x)$')\n",
        "plt.plot(x, y2, label=r'$\\sin(x^2)$')\n",
        "plt.title('Some functions')\n",
        "plt.xlabel('x')\n",
        "plt.ylabel('y')\n",
        "plt.xlim(0,9)\n",
        "plt.grid()\n",
        "plt.legend(loc='upper right')"
      ]
    },
    {
      "cell_type": "markdown",
      "metadata": {
        "id": "rxh7JSgNXGWb"
      },
      "source": [
        "### Annotating Text"
      ]
    },
    {
      "cell_type": "code",
      "execution_count": null,
      "metadata": {
        "id": "vcvuUUCuXGWb"
      },
      "outputs": [],
      "source": [
        "ax = plt.subplot(111)\n",
        "t = np.arange(0.0, 5.0, 0.01)\n",
        "s = np.cos(2*np.pi*t)\n",
        "line, = plt.plot(t, s, lw=2)\n",
        "\n",
        "plt.annotate('local max', xy=(2, 1), \\\n",
        "        xytext=(3, 1.5), \\\n",
        "        arrowprops=dict(facecolor='black', \\\n",
        "        shrink=0.05), )\n",
        "\n",
        "plt.ylim(-2,2)"
      ]
    },
    {
      "cell_type": "markdown",
      "metadata": {
        "id": "Ylc06sMMXGWb"
      },
      "source": [
        "#### <font color=\"red\"> Exercise </font>\n",
        "On the plot above, add a small mark on the point (2,1)\n",
        "and label the point."
      ]
    },
    {
      "cell_type": "markdown",
      "metadata": {
        "id": "agWiUkLYXGWb"
      },
      "source": [
        "### Plot with Fill"
      ]
    },
    {
      "cell_type": "code",
      "execution_count": null,
      "metadata": {
        "id": "XQtytmy6XGWc"
      },
      "outputs": [],
      "source": [
        "t = np.arange(0.0, 1.01, 0.01)\n",
        "s = np.sin(2*2*np.pi*t)\n",
        "w = s*np.exp(-5*t)\n",
        "\n",
        "plt.fill(t, w, 'r')\n",
        "plt.grid(True)"
      ]
    },
    {
      "cell_type": "markdown",
      "metadata": {
        "id": "ct47sVKTXGWc"
      },
      "source": [
        "#### <font color=\"red\"> Exercise </font>\n",
        "How do could you only fill the area above the x-axis?\n",
        "\n",
        "Hint: Use the function `fill_between`."
      ]
    },
    {
      "cell_type": "markdown",
      "metadata": {
        "id": "YlveN1sKXGWe"
      },
      "source": [
        "### Histogram"
      ]
    },
    {
      "cell_type": "code",
      "execution_count": null,
      "metadata": {
        "id": "yW0cXauSXGWe"
      },
      "outputs": [],
      "source": [
        "mu, sigma = 100, 15\n",
        "x = mu + sigma * np.random.randn(10000)\n",
        "\n",
        "# the histogram of the data\n",
        "n, bins, patches = plt.hist(x, 50, normed=1, \\\n",
        "                       facecolor='g', alpha=0.75)\n",
        "\n",
        "plt.xlabel('Smarts')\n",
        "plt.ylabel('Probability')\n",
        "plt.title('Histogram of IQ')\n",
        "plt.text(60, .025, r'$\\mu=100,\\ \\sigma=\\frac{1}{\\sqrt{15}}$')\n",
        "plt.axis([40, 160, 0, 0.03])\n",
        "plt.grid(True)"
      ]
    },
    {
      "cell_type": "markdown",
      "metadata": {
        "id": "icJGsiqDXGWe"
      },
      "source": [
        "### Log Plot"
      ]
    },
    {
      "cell_type": "code",
      "execution_count": null,
      "metadata": {
        "id": "2RAHCh66XGWf"
      },
      "outputs": [],
      "source": [
        "plt.subplots_adjust(hspace=0.4)\n",
        "t = np.arange(0.01, 20.0, 0.01)\n",
        "\n",
        "# log y axis\n",
        "plt.subplot(221)\n",
        "plt.semilogy(t, np.exp(-t/5.0))\n",
        "plt.title('semilogy')\n",
        "plt.grid(True)\n",
        "\n",
        "# log x axis\n",
        "plt.subplot(222)\n",
        "plt.semilogx(t, np.sin(2*np.pi*t))\n",
        "plt.title('semilogx')\n",
        "plt.grid(True)\n",
        "\n",
        "# log x and y axis\n",
        "plt.subplot(223)\n",
        "plt.loglog(t, 20*np.exp(-t/10.0), basex=2)\n",
        "plt.grid(True)\n",
        "plt.title('loglog base 4 on x')\n",
        "\n",
        "# with errorbars: clip non-positive values\n",
        "ax = plt.subplot(224)\n",
        "ax.set_xscale(\"log\", nonposx='clip')\n",
        "ax.set_yscale(\"log\", nonposy='clip')\n",
        "\n",
        "x = 10.0**np.linspace(0.0, 2.0, 20)\n",
        "y = x**2.0\n",
        "plt.errorbar(x, y, xerr=0.1*x, yerr=5.0+0.75*y)\n",
        "ax.set_ylim(ymin=0.1)\n",
        "ax.set_title('Errorbars go negative')\n"
      ]
    },
    {
      "cell_type": "markdown",
      "metadata": {
        "id": "WnjuaAPnXGWf"
      },
      "source": [
        "### Pie Chart"
      ]
    },
    {
      "cell_type": "code",
      "execution_count": null,
      "metadata": {
        "id": "Da8GvCOIXGWf"
      },
      "outputs": [],
      "source": [
        "# make a square figure and axes\n",
        "fig = plt.figure(1, figsize=(6,6))\n",
        "ax = fig.add_axes([0.1, 0.1, 0.8, 0.8])\n",
        "labels = 'Frogs', 'Hogs', 'Dogs', 'Logs'\n",
        "fracs = [15,30,45, 10]\n",
        "explode=(0, 0.1, 0, 0)\n",
        "ax.pie(fracs, explode=explode, labels=labels, autopct='%1.1f%%', shadow=True)\n",
        "ax.set_title('Raining Hogs and Dogs', bbox={'facecolor':'0.9', 'pad':15})"
      ]
    },
    {
      "cell_type": "markdown",
      "metadata": {
        "id": "MgpIOjtCXGWf"
      },
      "source": [
        "### Contour Plot and Colorbar"
      ]
    },
    {
      "cell_type": "code",
      "execution_count": null,
      "metadata": {
        "id": "6ctnmuylXGWf"
      },
      "outputs": [],
      "source": [
        "def f(x, y):\n",
        "    return np.sin(x) ** 10 + np.cos(10 + y * x) * np.cos(x)\n",
        "\n",
        "x = np.linspace(0, 5, 50)\n",
        "y = np.linspace(0, 5, 40)\n",
        "\n",
        "X, Y = np.meshgrid(x, y)\n",
        "Z = f(X, Y)"
      ]
    },
    {
      "cell_type": "code",
      "execution_count": null,
      "metadata": {
        "id": "5VtgNdMtXGWg"
      },
      "outputs": [],
      "source": [
        "plt.contour(X, Y, Z, colors='black')"
      ]
    },
    {
      "cell_type": "code",
      "execution_count": null,
      "metadata": {
        "id": "QZUnLfrnXGWg"
      },
      "outputs": [],
      "source": [
        "cmap = cm.get_cmap('jet', 10)    # 10 discrete colors\n",
        "plt.contour(X, Y, Z, 20, cmap=cmap);"
      ]
    },
    {
      "cell_type": "code",
      "execution_count": null,
      "metadata": {
        "id": "1ufjNFGfXGWg"
      },
      "outputs": [],
      "source": [
        "cmap = cm.get_cmap('jet', 10)    # 10 discrete colors\n",
        "plt.contourf(X, Y, Z, 20, cmap=cmap)\n",
        "plt.colorbar()"
      ]
    },
    {
      "cell_type": "markdown",
      "metadata": {
        "id": "hRLKIdchXGWg"
      },
      "source": [
        "### Scatter Plot"
      ]
    },
    {
      "cell_type": "code",
      "execution_count": null,
      "metadata": {
        "id": "JUqvTHmPXGWg"
      },
      "outputs": [],
      "source": [
        "from numpy import random\n",
        "\n",
        "random.seed(0)\n",
        "mu_1 = random.randn(2)\n",
        "sigma_1 = random.randn()\n",
        "x_1 = (random.randn(1000)*sigma_1)+mu_1[0]\n",
        "y_1 = (random.randn(1000)*sigma_1)+mu_1[1]\n",
        "\n",
        "mu_2 = random.randn(2)\n",
        "sigma_2 = random.randn()\n",
        "x_2 = (random.randn(1000)*sigma_2)+mu_2[0]\n",
        "y_2 = (random.randn(1000)*sigma_2)+mu_2[1]\n",
        "\n",
        "fig = plt.figure()\n",
        "ax = fig.add_subplot(1,1,1)\n",
        "ax.scatter(x_1,y_1,color='r',edgecolor='k',alpha=0.25)\n",
        "ax.scatter(x_2,y_2,color='b',edgecolor='k',alpha=0.25)"
      ]
    },
    {
      "cell_type": "markdown",
      "metadata": {
        "id": "qK84ukFcXGWg"
      },
      "source": [
        "### Manipulating Images"
      ]
    },
    {
      "cell_type": "markdown",
      "metadata": {
        "id": "9lq7IGZLXGWh"
      },
      "source": [
        "Obtain a remote file:"
      ]
    },
    {
      "cell_type": "code",
      "execution_count": null,
      "metadata": {
        "id": "uBJM0VJWXGWh"
      },
      "outputs": [],
      "source": [
        "import urllib.request\n",
        "url = 'https://raw.githubusercontent.com/pytrain/viz/master/dessert.png'\n",
        "urllib.request.urlretrieve(url, \"dessert.png\")"
      ]
    },
    {
      "cell_type": "code",
      "execution_count": null,
      "metadata": {
        "id": "y5_M6_V2XGWh"
      },
      "outputs": [],
      "source": [
        "img = plt.imread('dessert.png')\n",
        "print(\"Type  of image object: \", type(img))\n",
        "print(\"Shape of image object: \", img.shape)"
      ]
    },
    {
      "cell_type": "markdown",
      "metadata": {
        "id": "6GT1Rzs6XGWh"
      },
      "source": [
        "It's a 24-bit RGB PNG image (8 bits for each of R, G, B)."
      ]
    },
    {
      "cell_type": "code",
      "execution_count": null,
      "metadata": {
        "id": "KQF52zr4XGWh"
      },
      "outputs": [],
      "source": [
        "print(img)"
      ]
    },
    {
      "cell_type": "markdown",
      "metadata": {
        "id": "J1mtfOLxXGWh"
      },
      "source": [
        "What is the type of the entries of `img`?"
      ]
    },
    {
      "cell_type": "code",
      "execution_count": null,
      "metadata": {
        "id": "u1ahe0mZXGWh"
      },
      "outputs": [],
      "source": [
        "print(img.dtype)"
      ]
    },
    {
      "cell_type": "markdown",
      "metadata": {
        "id": "GvrtLdo9XGWi"
      },
      "source": [
        "- The dtype there - float32.\n",
        "- Matplotlib has rescaled the 8 bit data from each channel to floating point data between 0.0 and 1.0."
      ]
    },
    {
      "cell_type": "markdown",
      "metadata": {
        "id": "66ROU_GvXGWi"
      },
      "source": [
        "We can now plot the image using the `imshow()` function:"
      ]
    },
    {
      "cell_type": "code",
      "execution_count": null,
      "metadata": {
        "id": "zjUIUFbeXGWi"
      },
      "outputs": [],
      "source": [
        "plt.imshow(img)"
      ]
    },
    {
      "cell_type": "markdown",
      "metadata": {
        "id": "lnFAZIL9XGWi"
      },
      "source": [
        "Plot the R, G, B channels of the image."
      ]
    },
    {
      "cell_type": "code",
      "execution_count": null,
      "metadata": {
        "id": "YMMUjCl3XGWi"
      },
      "outputs": [],
      "source": [
        "#\n",
        "fig, ax = plt.subplots(1,4, figsize=(12,8))\n",
        "ax[0].imshow(img[:,:,0], cmap=cm.Reds_r)\n",
        "ax[1].imshow(img[:,:,1], cmap=cm.Greens_r)\n",
        "ax[2].imshow(img[:,:,2], cmap=cm.Blues_r)\n",
        "ax[3].imshow(img);\n",
        "#for a in ax:\n",
        "#    a.set_xticklabels([])\n",
        "#    a.set_yticklabels([])"
      ]
    },
    {
      "cell_type": "markdown",
      "metadata": {
        "id": "i4gmPFjDXGWi"
      },
      "source": [
        "#### <font color=\"red\">Exercise </font>"
      ]
    },
    {
      "cell_type": "markdown",
      "metadata": {
        "id": "w0yWbiK3XGWi"
      },
      "source": [
        "Use the above cosine/sine plots to produce something like:"
      ]
    },
    {
      "cell_type": "markdown",
      "metadata": {
        "id": "Ba9DlNJHXGWj"
      },
      "source": [
        "![title](https://github.com/astg606/py_materials/blob/master/visualization/fig_annotate.png?raw=1)"
      ]
    },
    {
      "cell_type": "code",
      "execution_count": null,
      "metadata": {
        "id": "6frBmpV_XGWj"
      },
      "outputs": [],
      "source": []
    }
  ],
  "metadata": {
    "anaconda-cloud": {},
    "kernelspec": {
      "display_name": "Python 3",
      "language": "python",
      "name": "python3"
    },
    "language_info": {
      "codemirror_mode": {
        "name": "ipython",
        "version": 3
      },
      "file_extension": ".py",
      "mimetype": "text/x-python",
      "name": "python",
      "nbconvert_exporter": "python",
      "pygments_lexer": "ipython3",
      "version": "3.7.3"
    },
    "colab": {
      "provenance": []
    }
  },
  "nbformat": 4,
  "nbformat_minor": 0
}